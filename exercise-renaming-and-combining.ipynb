{
 "cells": [
  {
   "cell_type": "markdown",
   "id": "e8e37f0c",
   "metadata": {
    "papermill": {
     "duration": 0.020118,
     "end_time": "2022-02-25T14:37:30.839319",
     "exception": false,
     "start_time": "2022-02-25T14:37:30.819201",
     "status": "completed"
    },
    "tags": []
   },
   "source": [
    "**This notebook is an exercise in the [Pandas](https://www.kaggle.com/learn/pandas) course.  You can reference the tutorial at [this link](https://www.kaggle.com/residentmario/renaming-and-combining).**\n",
    "\n",
    "---\n"
   ]
  },
  {
   "cell_type": "markdown",
   "id": "e3b9c683",
   "metadata": {
    "papermill": {
     "duration": 0.018675,
     "end_time": "2022-02-25T14:37:30.879205",
     "exception": false,
     "start_time": "2022-02-25T14:37:30.860530",
     "status": "completed"
    },
    "tags": []
   },
   "source": [
    "# Introduction\n",
    "\n",
    "Run the following cell to load your data and some utility functions."
   ]
  },
  {
   "cell_type": "code",
   "execution_count": 1,
   "id": "6e6f4025",
   "metadata": {
    "execution": {
     "iopub.execute_input": "2022-02-25T14:37:30.921174Z",
     "iopub.status.busy": "2022-02-25T14:37:30.920011Z",
     "iopub.status.idle": "2022-02-25T14:37:35.793110Z",
     "shell.execute_reply": "2022-02-25T14:37:35.793872Z",
     "shell.execute_reply.started": "2022-02-25T14:20:10.351259Z"
    },
    "papermill": {
     "duration": 4.896123,
     "end_time": "2022-02-25T14:37:35.794278",
     "exception": false,
     "start_time": "2022-02-25T14:37:30.898155",
     "status": "completed"
    },
    "tags": []
   },
   "outputs": [
    {
     "name": "stdout",
     "output_type": "stream",
     "text": [
      "Setup complete.\n"
     ]
    }
   ],
   "source": [
    "import pandas as pd\n",
    "\n",
    "reviews = pd.read_csv(\"../input/wine-reviews/winemag-data-130k-v2.csv\", index_col=0)\n",
    "\n",
    "from learntools.core import binder; binder.bind(globals())\n",
    "from learntools.pandas.renaming_and_combining import *\n",
    "print(\"Setup complete.\")"
   ]
  },
  {
   "cell_type": "markdown",
   "id": "78b3c36f",
   "metadata": {
    "papermill": {
     "duration": 0.019573,
     "end_time": "2022-02-25T14:37:35.835210",
     "exception": false,
     "start_time": "2022-02-25T14:37:35.815637",
     "status": "completed"
    },
    "tags": []
   },
   "source": [
    "# Exercises\n",
    "\n",
    "View the first several lines of your data by running the cell below:"
   ]
  },
  {
   "cell_type": "code",
   "execution_count": 2,
   "id": "cf3cb4c2",
   "metadata": {
    "execution": {
     "iopub.execute_input": "2022-02-25T14:37:35.883583Z",
     "iopub.status.busy": "2022-02-25T14:37:35.882925Z",
     "iopub.status.idle": "2022-02-25T14:37:35.902413Z",
     "shell.execute_reply": "2022-02-25T14:37:35.902938Z",
     "shell.execute_reply.started": "2022-02-25T14:20:14.449315Z"
    },
    "papermill": {
     "duration": 0.047529,
     "end_time": "2022-02-25T14:37:35.903106",
     "exception": false,
     "start_time": "2022-02-25T14:37:35.855577",
     "status": "completed"
    },
    "tags": []
   },
   "outputs": [
    {
     "data": {
      "text/html": [
       "<div>\n",
       "<style scoped>\n",
       "    .dataframe tbody tr th:only-of-type {\n",
       "        vertical-align: middle;\n",
       "    }\n",
       "\n",
       "    .dataframe tbody tr th {\n",
       "        vertical-align: top;\n",
       "    }\n",
       "\n",
       "    .dataframe thead th {\n",
       "        text-align: right;\n",
       "    }\n",
       "</style>\n",
       "<table border=\"1\" class=\"dataframe\">\n",
       "  <thead>\n",
       "    <tr style=\"text-align: right;\">\n",
       "      <th></th>\n",
       "      <th>country</th>\n",
       "      <th>description</th>\n",
       "      <th>designation</th>\n",
       "      <th>points</th>\n",
       "      <th>price</th>\n",
       "      <th>province</th>\n",
       "      <th>region_1</th>\n",
       "      <th>region_2</th>\n",
       "      <th>taster_name</th>\n",
       "      <th>taster_twitter_handle</th>\n",
       "      <th>title</th>\n",
       "      <th>variety</th>\n",
       "      <th>winery</th>\n",
       "    </tr>\n",
       "  </thead>\n",
       "  <tbody>\n",
       "    <tr>\n",
       "      <th>0</th>\n",
       "      <td>Italy</td>\n",
       "      <td>Aromas include tropical fruit, broom, brimston...</td>\n",
       "      <td>Vulkà Bianco</td>\n",
       "      <td>87</td>\n",
       "      <td>NaN</td>\n",
       "      <td>Sicily &amp; Sardinia</td>\n",
       "      <td>Etna</td>\n",
       "      <td>NaN</td>\n",
       "      <td>Kerin O’Keefe</td>\n",
       "      <td>@kerinokeefe</td>\n",
       "      <td>Nicosia 2013 Vulkà Bianco  (Etna)</td>\n",
       "      <td>White Blend</td>\n",
       "      <td>Nicosia</td>\n",
       "    </tr>\n",
       "    <tr>\n",
       "      <th>1</th>\n",
       "      <td>Portugal</td>\n",
       "      <td>This is ripe and fruity, a wine that is smooth...</td>\n",
       "      <td>Avidagos</td>\n",
       "      <td>87</td>\n",
       "      <td>15.0</td>\n",
       "      <td>Douro</td>\n",
       "      <td>NaN</td>\n",
       "      <td>NaN</td>\n",
       "      <td>Roger Voss</td>\n",
       "      <td>@vossroger</td>\n",
       "      <td>Quinta dos Avidagos 2011 Avidagos Red (Douro)</td>\n",
       "      <td>Portuguese Red</td>\n",
       "      <td>Quinta dos Avidagos</td>\n",
       "    </tr>\n",
       "    <tr>\n",
       "      <th>2</th>\n",
       "      <td>US</td>\n",
       "      <td>Tart and snappy, the flavors of lime flesh and...</td>\n",
       "      <td>NaN</td>\n",
       "      <td>87</td>\n",
       "      <td>14.0</td>\n",
       "      <td>Oregon</td>\n",
       "      <td>Willamette Valley</td>\n",
       "      <td>Willamette Valley</td>\n",
       "      <td>Paul Gregutt</td>\n",
       "      <td>@paulgwine</td>\n",
       "      <td>Rainstorm 2013 Pinot Gris (Willamette Valley)</td>\n",
       "      <td>Pinot Gris</td>\n",
       "      <td>Rainstorm</td>\n",
       "    </tr>\n",
       "    <tr>\n",
       "      <th>3</th>\n",
       "      <td>US</td>\n",
       "      <td>Pineapple rind, lemon pith and orange blossom ...</td>\n",
       "      <td>Reserve Late Harvest</td>\n",
       "      <td>87</td>\n",
       "      <td>13.0</td>\n",
       "      <td>Michigan</td>\n",
       "      <td>Lake Michigan Shore</td>\n",
       "      <td>NaN</td>\n",
       "      <td>Alexander Peartree</td>\n",
       "      <td>NaN</td>\n",
       "      <td>St. Julian 2013 Reserve Late Harvest Riesling ...</td>\n",
       "      <td>Riesling</td>\n",
       "      <td>St. Julian</td>\n",
       "    </tr>\n",
       "    <tr>\n",
       "      <th>4</th>\n",
       "      <td>US</td>\n",
       "      <td>Much like the regular bottling from 2012, this...</td>\n",
       "      <td>Vintner's Reserve Wild Child Block</td>\n",
       "      <td>87</td>\n",
       "      <td>65.0</td>\n",
       "      <td>Oregon</td>\n",
       "      <td>Willamette Valley</td>\n",
       "      <td>Willamette Valley</td>\n",
       "      <td>Paul Gregutt</td>\n",
       "      <td>@paulgwine</td>\n",
       "      <td>Sweet Cheeks 2012 Vintner's Reserve Wild Child...</td>\n",
       "      <td>Pinot Noir</td>\n",
       "      <td>Sweet Cheeks</td>\n",
       "    </tr>\n",
       "  </tbody>\n",
       "</table>\n",
       "</div>"
      ],
      "text/plain": [
       "    country                                        description  \\\n",
       "0     Italy  Aromas include tropical fruit, broom, brimston...   \n",
       "1  Portugal  This is ripe and fruity, a wine that is smooth...   \n",
       "2        US  Tart and snappy, the flavors of lime flesh and...   \n",
       "3        US  Pineapple rind, lemon pith and orange blossom ...   \n",
       "4        US  Much like the regular bottling from 2012, this...   \n",
       "\n",
       "                          designation  points  price           province  \\\n",
       "0                        Vulkà Bianco      87    NaN  Sicily & Sardinia   \n",
       "1                            Avidagos      87   15.0              Douro   \n",
       "2                                 NaN      87   14.0             Oregon   \n",
       "3                Reserve Late Harvest      87   13.0           Michigan   \n",
       "4  Vintner's Reserve Wild Child Block      87   65.0             Oregon   \n",
       "\n",
       "              region_1           region_2         taster_name  \\\n",
       "0                 Etna                NaN       Kerin O’Keefe   \n",
       "1                  NaN                NaN          Roger Voss   \n",
       "2    Willamette Valley  Willamette Valley        Paul Gregutt   \n",
       "3  Lake Michigan Shore                NaN  Alexander Peartree   \n",
       "4    Willamette Valley  Willamette Valley        Paul Gregutt   \n",
       "\n",
       "  taster_twitter_handle                                              title  \\\n",
       "0          @kerinokeefe                  Nicosia 2013 Vulkà Bianco  (Etna)   \n",
       "1            @vossroger      Quinta dos Avidagos 2011 Avidagos Red (Douro)   \n",
       "2           @paulgwine       Rainstorm 2013 Pinot Gris (Willamette Valley)   \n",
       "3                   NaN  St. Julian 2013 Reserve Late Harvest Riesling ...   \n",
       "4           @paulgwine   Sweet Cheeks 2012 Vintner's Reserve Wild Child...   \n",
       "\n",
       "          variety               winery  \n",
       "0     White Blend              Nicosia  \n",
       "1  Portuguese Red  Quinta dos Avidagos  \n",
       "2      Pinot Gris            Rainstorm  \n",
       "3        Riesling           St. Julian  \n",
       "4      Pinot Noir         Sweet Cheeks  "
      ]
     },
     "execution_count": 2,
     "metadata": {},
     "output_type": "execute_result"
    }
   ],
   "source": [
    "reviews.head()"
   ]
  },
  {
   "cell_type": "markdown",
   "id": "c9ef5d8f",
   "metadata": {
    "papermill": {
     "duration": 0.019907,
     "end_time": "2022-02-25T14:37:35.943608",
     "exception": false,
     "start_time": "2022-02-25T14:37:35.923701",
     "status": "completed"
    },
    "tags": []
   },
   "source": [
    "## 1.\n",
    "`region_1` and `region_2` are pretty uninformative names for locale columns in the dataset. Create a copy of `reviews` with these columns renamed to `region` and `locale`, respectively."
   ]
  },
  {
   "cell_type": "code",
   "execution_count": 3,
   "id": "654d99ec",
   "metadata": {
    "execution": {
     "iopub.execute_input": "2022-02-25T14:37:35.988090Z",
     "iopub.status.busy": "2022-02-25T14:37:35.987408Z",
     "iopub.status.idle": "2022-02-25T14:37:36.019046Z",
     "shell.execute_reply": "2022-02-25T14:37:36.018393Z",
     "shell.execute_reply.started": "2022-02-25T14:21:57.474594Z"
    },
    "papermill": {
     "duration": 0.055083,
     "end_time": "2022-02-25T14:37:36.019184",
     "exception": false,
     "start_time": "2022-02-25T14:37:35.964101",
     "status": "completed"
    },
    "tags": []
   },
   "outputs": [
    {
     "data": {
      "application/javascript": [
       "parent.postMessage({\"jupyterEvent\": \"custom.exercise_interaction\", \"data\": {\"outcomeType\": 1, \"valueTowardsCompletion\": 0.25, \"interactionType\": 1, \"questionType\": 1, \"questionId\": \"1_RenameCols\", \"learnToolsVersion\": \"0.3.4\", \"failureMessage\": \"\", \"exceptionClass\": \"\", \"trace\": \"\"}}, \"*\")"
      ],
      "text/plain": [
       "<IPython.core.display.Javascript object>"
      ]
     },
     "metadata": {},
     "output_type": "display_data"
    },
    {
     "data": {
      "text/markdown": [
       "<span style=\"color:#33cc33\">Correct</span>"
      ],
      "text/plain": [
       "Correct"
      ]
     },
     "metadata": {},
     "output_type": "display_data"
    }
   ],
   "source": [
    "# Your code here\n",
    "renamed = reviews.rename(columns={'region_1':'region','region_2':'locale'})\n",
    "\n",
    "# Check your answer\n",
    "q1.check()"
   ]
  },
  {
   "cell_type": "code",
   "execution_count": 4,
   "id": "570d9d89",
   "metadata": {
    "execution": {
     "iopub.execute_input": "2022-02-25T14:37:36.067378Z",
     "iopub.status.busy": "2022-02-25T14:37:36.066539Z",
     "iopub.status.idle": "2022-02-25T14:37:36.069367Z",
     "shell.execute_reply": "2022-02-25T14:37:36.068711Z"
    },
    "papermill": {
     "duration": 0.028375,
     "end_time": "2022-02-25T14:37:36.069514",
     "exception": false,
     "start_time": "2022-02-25T14:37:36.041139",
     "status": "completed"
    },
    "tags": []
   },
   "outputs": [],
   "source": [
    "#q1.hint()\n",
    "#q1.solution()"
   ]
  },
  {
   "cell_type": "markdown",
   "id": "68161e1b",
   "metadata": {
    "papermill": {
     "duration": 0.022142,
     "end_time": "2022-02-25T14:37:36.113433",
     "exception": false,
     "start_time": "2022-02-25T14:37:36.091291",
     "status": "completed"
    },
    "tags": []
   },
   "source": [
    "## 2.\n",
    "Set the index name in the dataset to `wines`."
   ]
  },
  {
   "cell_type": "code",
   "execution_count": 5,
   "id": "fe79dc30",
   "metadata": {
    "execution": {
     "iopub.execute_input": "2022-02-25T14:37:36.162114Z",
     "iopub.status.busy": "2022-02-25T14:37:36.161433Z",
     "iopub.status.idle": "2022-02-25T14:37:36.190586Z",
     "shell.execute_reply": "2022-02-25T14:37:36.191079Z",
     "shell.execute_reply.started": "2022-02-25T14:23:12.748422Z"
    },
    "papermill": {
     "duration": 0.055923,
     "end_time": "2022-02-25T14:37:36.191240",
     "exception": false,
     "start_time": "2022-02-25T14:37:36.135317",
     "status": "completed"
    },
    "tags": []
   },
   "outputs": [
    {
     "data": {
      "application/javascript": [
       "parent.postMessage({\"jupyterEvent\": \"custom.exercise_interaction\", \"data\": {\"outcomeType\": 1, \"valueTowardsCompletion\": 0.25, \"interactionType\": 1, \"questionType\": 1, \"questionId\": \"2_RenameIndex\", \"learnToolsVersion\": \"0.3.4\", \"failureMessage\": \"\", \"exceptionClass\": \"\", \"trace\": \"\"}}, \"*\")"
      ],
      "text/plain": [
       "<IPython.core.display.Javascript object>"
      ]
     },
     "metadata": {},
     "output_type": "display_data"
    },
    {
     "data": {
      "text/markdown": [
       "<span style=\"color:#33cc33\">Correct</span>"
      ],
      "text/plain": [
       "Correct"
      ]
     },
     "metadata": {},
     "output_type": "display_data"
    }
   ],
   "source": [
    "reindexed = reviews.rename_axis('wines',axis='rows')\n",
    "\n",
    "# Check your answer\n",
    "q2.check()"
   ]
  },
  {
   "cell_type": "code",
   "execution_count": 6,
   "id": "397abe97",
   "metadata": {
    "execution": {
     "iopub.execute_input": "2022-02-25T14:37:36.241844Z",
     "iopub.status.busy": "2022-02-25T14:37:36.241203Z",
     "iopub.status.idle": "2022-02-25T14:37:36.243788Z",
     "shell.execute_reply": "2022-02-25T14:37:36.244310Z",
     "shell.execute_reply.started": "2022-02-25T14:23:25.422469Z"
    },
    "papermill": {
     "duration": 0.030357,
     "end_time": "2022-02-25T14:37:36.244467",
     "exception": false,
     "start_time": "2022-02-25T14:37:36.214110",
     "status": "completed"
    },
    "tags": []
   },
   "outputs": [],
   "source": [
    "#q2.hint()\n",
    "#q2.solution()"
   ]
  },
  {
   "cell_type": "markdown",
   "id": "97783658",
   "metadata": {
    "papermill": {
     "duration": 0.022737,
     "end_time": "2022-02-25T14:37:36.290586",
     "exception": false,
     "start_time": "2022-02-25T14:37:36.267849",
     "status": "completed"
    },
    "tags": []
   },
   "source": [
    "## 3.\n",
    "The [Things on Reddit](https://www.kaggle.com/residentmario/things-on-reddit/data) dataset includes product links from a selection of top-ranked forums (\"subreddits\") on reddit.com. Run the cell below to load a dataframe of products mentioned on the */r/gaming* subreddit and another dataframe for products mentioned on the *r//movies* subreddit."
   ]
  },
  {
   "cell_type": "code",
   "execution_count": 7,
   "id": "690c66e0",
   "metadata": {
    "execution": {
     "iopub.execute_input": "2022-02-25T14:37:36.341712Z",
     "iopub.status.busy": "2022-02-25T14:37:36.341082Z",
     "iopub.status.idle": "2022-02-25T14:37:36.352288Z",
     "shell.execute_reply": "2022-02-25T14:37:36.352748Z",
     "shell.execute_reply.started": "2022-02-25T14:24:05.517398Z"
    },
    "papermill": {
     "duration": 0.039535,
     "end_time": "2022-02-25T14:37:36.352937",
     "exception": false,
     "start_time": "2022-02-25T14:37:36.313402",
     "status": "completed"
    },
    "tags": []
   },
   "outputs": [],
   "source": [
    "gaming_products = pd.read_csv(\"../input/things-on-reddit/top-things/top-things/reddits/g/gaming.csv\")\n",
    "gaming_products['subreddit'] = \"r/gaming\"\n",
    "movie_products = pd.read_csv(\"../input/things-on-reddit/top-things/top-things/reddits/m/movies.csv\")\n",
    "movie_products['subreddit'] = \"r/movies\""
   ]
  },
  {
   "cell_type": "markdown",
   "id": "05654b1d",
   "metadata": {
    "papermill": {
     "duration": 0.022701,
     "end_time": "2022-02-25T14:37:36.399010",
     "exception": false,
     "start_time": "2022-02-25T14:37:36.376309",
     "status": "completed"
    },
    "tags": []
   },
   "source": [
    "Create a `DataFrame` of products mentioned on *either* subreddit."
   ]
  },
  {
   "cell_type": "code",
   "execution_count": 8,
   "id": "5631b747",
   "metadata": {
    "execution": {
     "iopub.execute_input": "2022-02-25T14:37:36.454554Z",
     "iopub.status.busy": "2022-02-25T14:37:36.451750Z",
     "iopub.status.idle": "2022-02-25T14:37:36.476443Z",
     "shell.execute_reply": "2022-02-25T14:37:36.476947Z",
     "shell.execute_reply.started": "2022-02-25T14:26:37.159513Z"
    },
    "papermill": {
     "duration": 0.054841,
     "end_time": "2022-02-25T14:37:36.477110",
     "exception": false,
     "start_time": "2022-02-25T14:37:36.422269",
     "status": "completed"
    },
    "tags": []
   },
   "outputs": [
    {
     "data": {
      "application/javascript": [
       "parent.postMessage({\"jupyterEvent\": \"custom.exercise_interaction\", \"data\": {\"outcomeType\": 1, \"valueTowardsCompletion\": 0.25, \"interactionType\": 1, \"questionType\": 2, \"questionId\": \"3_ConcatReddit\", \"learnToolsVersion\": \"0.3.4\", \"failureMessage\": \"\", \"exceptionClass\": \"\", \"trace\": \"\"}}, \"*\")"
      ],
      "text/plain": [
       "<IPython.core.display.Javascript object>"
      ]
     },
     "metadata": {},
     "output_type": "display_data"
    },
    {
     "data": {
      "text/markdown": [
       "<span style=\"color:#33cc33\">Correct</span>"
      ],
      "text/plain": [
       "Correct"
      ]
     },
     "metadata": {},
     "output_type": "display_data"
    },
    {
     "data": {
      "text/html": [
       "<div>\n",
       "<style scoped>\n",
       "    .dataframe tbody tr th:only-of-type {\n",
       "        vertical-align: middle;\n",
       "    }\n",
       "\n",
       "    .dataframe tbody tr th {\n",
       "        vertical-align: top;\n",
       "    }\n",
       "\n",
       "    .dataframe thead th {\n",
       "        text-align: right;\n",
       "    }\n",
       "</style>\n",
       "<table border=\"1\" class=\"dataframe\">\n",
       "  <thead>\n",
       "    <tr style=\"text-align: right;\">\n",
       "      <th></th>\n",
       "      <th>name</th>\n",
       "      <th>category</th>\n",
       "      <th>amazon_link</th>\n",
       "      <th>total_mentions</th>\n",
       "      <th>subreddit_mentions</th>\n",
       "      <th>subreddit</th>\n",
       "    </tr>\n",
       "  </thead>\n",
       "  <tbody>\n",
       "    <tr>\n",
       "      <th>0</th>\n",
       "      <td>BOOMco Halo Covenant Needler Blaster</td>\n",
       "      <td>Toys &amp; Games</td>\n",
       "      <td>https://www.amazon.com/BOOMco-Halo-Covenant-Ne...</td>\n",
       "      <td>4.0</td>\n",
       "      <td>4</td>\n",
       "      <td>r/gaming</td>\n",
       "    </tr>\n",
       "    <tr>\n",
       "      <th>1</th>\n",
       "      <td>Raspberry PI 3 Model B 1.2GHz 64-bit quad-core...</td>\n",
       "      <td>Electronics</td>\n",
       "      <td>https://www.amazon.com/Raspberry-Model-A1-2GHz...</td>\n",
       "      <td>19.0</td>\n",
       "      <td>3</td>\n",
       "      <td>r/gaming</td>\n",
       "    </tr>\n",
       "    <tr>\n",
       "      <th>2</th>\n",
       "      <td>CanaKit 5V 2.5A Raspberry Pi 3 Power Supply / ...</td>\n",
       "      <td>Electronics</td>\n",
       "      <td>https://www.amazon.com/CanaKit-Raspberry-Suppl...</td>\n",
       "      <td>7.0</td>\n",
       "      <td>3</td>\n",
       "      <td>r/gaming</td>\n",
       "    </tr>\n",
       "    <tr>\n",
       "      <th>3</th>\n",
       "      <td>Panasonic K-KJ17MCA4BA Advanced Individual Cel...</td>\n",
       "      <td>Electronics</td>\n",
       "      <td>https://www.amazon.com/Panasonic-Advanced-Indi...</td>\n",
       "      <td>29.0</td>\n",
       "      <td>2</td>\n",
       "      <td>r/gaming</td>\n",
       "    </tr>\n",
       "    <tr>\n",
       "      <th>4</th>\n",
       "      <td>Mayflash GameCube Controller Adapter for Wii U...</td>\n",
       "      <td>Electronics</td>\n",
       "      <td>https://www.amazon.com/GameCube-Controller-Ada...</td>\n",
       "      <td>24.0</td>\n",
       "      <td>2</td>\n",
       "      <td>r/gaming</td>\n",
       "    </tr>\n",
       "    <tr>\n",
       "      <th>...</th>\n",
       "      <td>...</td>\n",
       "      <td>...</td>\n",
       "      <td>...</td>\n",
       "      <td>...</td>\n",
       "      <td>...</td>\n",
       "      <td>...</td>\n",
       "    </tr>\n",
       "    <tr>\n",
       "      <th>298</th>\n",
       "      <td>Welcome to Night Vale CD: A Novel</td>\n",
       "      <td>Books</td>\n",
       "      <td>https://www.amazon.com/Welcome-Night-Vale-CD-N...</td>\n",
       "      <td>1.0</td>\n",
       "      <td>1</td>\n",
       "      <td>r/movies</td>\n",
       "    </tr>\n",
       "    <tr>\n",
       "      <th>299</th>\n",
       "      <td>Ran (StudioCanal Collection) [Blu-ray]</td>\n",
       "      <td>Movies &amp; TV</td>\n",
       "      <td>https://www.amazon.com/StudioCanal-Collection-...</td>\n",
       "      <td>1.0</td>\n",
       "      <td>1</td>\n",
       "      <td>r/movies</td>\n",
       "    </tr>\n",
       "    <tr>\n",
       "      <th>300</th>\n",
       "      <td>The Art of John Alvin</td>\n",
       "      <td>Books</td>\n",
       "      <td>https://www.amazon.com/Art-John-Alvin-Andrea/d...</td>\n",
       "      <td>1.0</td>\n",
       "      <td>1</td>\n",
       "      <td>r/movies</td>\n",
       "    </tr>\n",
       "    <tr>\n",
       "      <th>301</th>\n",
       "      <td>Apocalypto [Blu-ray]</td>\n",
       "      <td>Movies &amp; TV</td>\n",
       "      <td>https://www.amazon.com/Apocalypto-Blu-ray-Rudy...</td>\n",
       "      <td>1.0</td>\n",
       "      <td>1</td>\n",
       "      <td>r/movies</td>\n",
       "    </tr>\n",
       "    <tr>\n",
       "      <th>302</th>\n",
       "      <td>Cinelinx: A Card Game for People Who Love Movi...</td>\n",
       "      <td>Toys &amp; Games</td>\n",
       "      <td>https://www.amazon.com/Cinelinx-Card-Game-Peop...</td>\n",
       "      <td>1.0</td>\n",
       "      <td>1</td>\n",
       "      <td>r/movies</td>\n",
       "    </tr>\n",
       "  </tbody>\n",
       "</table>\n",
       "<p>796 rows × 6 columns</p>\n",
       "</div>"
      ],
      "text/plain": [
       "                                                  name      category  \\\n",
       "0                 BOOMco Halo Covenant Needler Blaster  Toys & Games   \n",
       "1    Raspberry PI 3 Model B 1.2GHz 64-bit quad-core...   Electronics   \n",
       "2    CanaKit 5V 2.5A Raspberry Pi 3 Power Supply / ...   Electronics   \n",
       "3    Panasonic K-KJ17MCA4BA Advanced Individual Cel...   Electronics   \n",
       "4    Mayflash GameCube Controller Adapter for Wii U...   Electronics   \n",
       "..                                                 ...           ...   \n",
       "298                  Welcome to Night Vale CD: A Novel         Books   \n",
       "299             Ran (StudioCanal Collection) [Blu-ray]   Movies & TV   \n",
       "300                              The Art of John Alvin         Books   \n",
       "301                               Apocalypto [Blu-ray]   Movies & TV   \n",
       "302  Cinelinx: A Card Game for People Who Love Movi...  Toys & Games   \n",
       "\n",
       "                                           amazon_link  total_mentions  \\\n",
       "0    https://www.amazon.com/BOOMco-Halo-Covenant-Ne...             4.0   \n",
       "1    https://www.amazon.com/Raspberry-Model-A1-2GHz...            19.0   \n",
       "2    https://www.amazon.com/CanaKit-Raspberry-Suppl...             7.0   \n",
       "3    https://www.amazon.com/Panasonic-Advanced-Indi...            29.0   \n",
       "4    https://www.amazon.com/GameCube-Controller-Ada...            24.0   \n",
       "..                                                 ...             ...   \n",
       "298  https://www.amazon.com/Welcome-Night-Vale-CD-N...             1.0   \n",
       "299  https://www.amazon.com/StudioCanal-Collection-...             1.0   \n",
       "300  https://www.amazon.com/Art-John-Alvin-Andrea/d...             1.0   \n",
       "301  https://www.amazon.com/Apocalypto-Blu-ray-Rudy...             1.0   \n",
       "302  https://www.amazon.com/Cinelinx-Card-Game-Peop...             1.0   \n",
       "\n",
       "     subreddit_mentions subreddit  \n",
       "0                     4  r/gaming  \n",
       "1                     3  r/gaming  \n",
       "2                     3  r/gaming  \n",
       "3                     2  r/gaming  \n",
       "4                     2  r/gaming  \n",
       "..                  ...       ...  \n",
       "298                   1  r/movies  \n",
       "299                   1  r/movies  \n",
       "300                   1  r/movies  \n",
       "301                   1  r/movies  \n",
       "302                   1  r/movies  \n",
       "\n",
       "[796 rows x 6 columns]"
      ]
     },
     "execution_count": 8,
     "metadata": {},
     "output_type": "execute_result"
    }
   ],
   "source": [
    "combined_products = pd.concat([gaming_products,movie_products])\n",
    "\n",
    "# Check your answer\n",
    "q3.check()\n",
    "combined_products"
   ]
  },
  {
   "cell_type": "code",
   "execution_count": 9,
   "id": "e3ed8ce5",
   "metadata": {
    "execution": {
     "iopub.execute_input": "2022-02-25T14:37:36.531875Z",
     "iopub.status.busy": "2022-02-25T14:37:36.530900Z",
     "iopub.status.idle": "2022-02-25T14:37:36.534082Z",
     "shell.execute_reply": "2022-02-25T14:37:36.534671Z",
     "shell.execute_reply.started": "2022-02-25T14:26:51.227550Z"
    },
    "papermill": {
     "duration": 0.032254,
     "end_time": "2022-02-25T14:37:36.534850",
     "exception": false,
     "start_time": "2022-02-25T14:37:36.502596",
     "status": "completed"
    },
    "tags": []
   },
   "outputs": [],
   "source": [
    "#q3.hint()\n",
    "#q3.solution()"
   ]
  },
  {
   "cell_type": "markdown",
   "id": "dc64b83a",
   "metadata": {
    "papermill": {
     "duration": 0.026909,
     "end_time": "2022-02-25T14:37:36.587163",
     "exception": false,
     "start_time": "2022-02-25T14:37:36.560254",
     "status": "completed"
    },
    "tags": []
   },
   "source": [
    "## 4.\n",
    "The [Powerlifting Database](https://www.kaggle.com/open-powerlifting/powerlifting-database) dataset on Kaggle includes one CSV table for powerlifting meets and a separate one for powerlifting competitors. Run the cell below to load these datasets into dataframes:"
   ]
  },
  {
   "cell_type": "code",
   "execution_count": 10,
   "id": "834485ad",
   "metadata": {
    "execution": {
     "iopub.execute_input": "2022-02-25T14:37:36.641392Z",
     "iopub.status.busy": "2022-02-25T14:37:36.640414Z",
     "iopub.status.idle": "2022-02-25T14:37:37.477653Z",
     "shell.execute_reply": "2022-02-25T14:37:37.477069Z",
     "shell.execute_reply.started": "2022-02-25T14:27:01.327565Z"
    },
    "papermill": {
     "duration": 0.86556,
     "end_time": "2022-02-25T14:37:37.477815",
     "exception": false,
     "start_time": "2022-02-25T14:37:36.612255",
     "status": "completed"
    },
    "tags": []
   },
   "outputs": [],
   "source": [
    "powerlifting_meets = pd.read_csv(\"../input/powerlifting-database/meets.csv\")\n",
    "powerlifting_competitors = pd.read_csv(\"../input/powerlifting-database/openpowerlifting.csv\")"
   ]
  },
  {
   "cell_type": "markdown",
   "id": "027844d0",
   "metadata": {
    "papermill": {
     "duration": 0.02454,
     "end_time": "2022-02-25T14:37:37.527261",
     "exception": false,
     "start_time": "2022-02-25T14:37:37.502721",
     "status": "completed"
    },
    "tags": []
   },
   "source": [
    "Both tables include references to a `MeetID`, a unique key for each meet (competition) included in the database. Using this, generate a dataset combining the two tables into one."
   ]
  },
  {
   "cell_type": "code",
   "execution_count": 11,
   "id": "0079ff5c",
   "metadata": {
    "execution": {
     "iopub.execute_input": "2022-02-25T14:37:37.580880Z",
     "iopub.status.busy": "2022-02-25T14:37:37.580196Z",
     "iopub.status.idle": "2022-02-25T14:37:38.879477Z",
     "shell.execute_reply": "2022-02-25T14:37:38.878866Z",
     "shell.execute_reply.started": "2022-02-25T14:36:47.425378Z"
    },
    "papermill": {
     "duration": 1.327135,
     "end_time": "2022-02-25T14:37:38.879621",
     "exception": false,
     "start_time": "2022-02-25T14:37:37.552486",
     "status": "completed"
    },
    "tags": []
   },
   "outputs": [
    {
     "data": {
      "application/javascript": [
       "parent.postMessage({\"jupyterEvent\": \"custom.exercise_interaction\", \"data\": {\"outcomeType\": 1, \"valueTowardsCompletion\": 0.25, \"interactionType\": 1, \"questionType\": 2, \"questionId\": \"4_JoinLifting\", \"learnToolsVersion\": \"0.3.4\", \"failureMessage\": \"\", \"exceptionClass\": \"\", \"trace\": \"\"}}, \"*\")"
      ],
      "text/plain": [
       "<IPython.core.display.Javascript object>"
      ]
     },
     "metadata": {},
     "output_type": "display_data"
    },
    {
     "data": {
      "text/markdown": [
       "<span style=\"color:#33cc33\">Correct</span>"
      ],
      "text/plain": [
       "Correct"
      ]
     },
     "metadata": {},
     "output_type": "display_data"
    },
    {
     "data": {
      "text/html": [
       "<div>\n",
       "<style scoped>\n",
       "    .dataframe tbody tr th:only-of-type {\n",
       "        vertical-align: middle;\n",
       "    }\n",
       "\n",
       "    .dataframe tbody tr th {\n",
       "        vertical-align: top;\n",
       "    }\n",
       "\n",
       "    .dataframe thead th {\n",
       "        text-align: right;\n",
       "    }\n",
       "</style>\n",
       "<table border=\"1\" class=\"dataframe\">\n",
       "  <thead>\n",
       "    <tr style=\"text-align: right;\">\n",
       "      <th></th>\n",
       "      <th>MeetPath</th>\n",
       "      <th>Federation</th>\n",
       "      <th>Date</th>\n",
       "      <th>MeetCountry</th>\n",
       "      <th>MeetState</th>\n",
       "      <th>MeetTown</th>\n",
       "      <th>MeetName</th>\n",
       "      <th>Name</th>\n",
       "      <th>Sex</th>\n",
       "      <th>Equipment</th>\n",
       "      <th>...</th>\n",
       "      <th>WeightClassKg</th>\n",
       "      <th>Squat4Kg</th>\n",
       "      <th>BestSquatKg</th>\n",
       "      <th>Bench4Kg</th>\n",
       "      <th>BestBenchKg</th>\n",
       "      <th>Deadlift4Kg</th>\n",
       "      <th>BestDeadliftKg</th>\n",
       "      <th>TotalKg</th>\n",
       "      <th>Place</th>\n",
       "      <th>Wilks</th>\n",
       "    </tr>\n",
       "    <tr>\n",
       "      <th>MeetID</th>\n",
       "      <th></th>\n",
       "      <th></th>\n",
       "      <th></th>\n",
       "      <th></th>\n",
       "      <th></th>\n",
       "      <th></th>\n",
       "      <th></th>\n",
       "      <th></th>\n",
       "      <th></th>\n",
       "      <th></th>\n",
       "      <th></th>\n",
       "      <th></th>\n",
       "      <th></th>\n",
       "      <th></th>\n",
       "      <th></th>\n",
       "      <th></th>\n",
       "      <th></th>\n",
       "      <th></th>\n",
       "      <th></th>\n",
       "      <th></th>\n",
       "      <th></th>\n",
       "    </tr>\n",
       "  </thead>\n",
       "  <tbody>\n",
       "    <tr>\n",
       "      <th>0</th>\n",
       "      <td>365strong/1601</td>\n",
       "      <td>365Strong</td>\n",
       "      <td>2016-10-29</td>\n",
       "      <td>USA</td>\n",
       "      <td>NC</td>\n",
       "      <td>Charlotte</td>\n",
       "      <td>2016 Junior &amp; Senior National Powerlifting Cha...</td>\n",
       "      <td>Angie Belk Terry</td>\n",
       "      <td>F</td>\n",
       "      <td>Wraps</td>\n",
       "      <td>...</td>\n",
       "      <td>60</td>\n",
       "      <td>NaN</td>\n",
       "      <td>47.63</td>\n",
       "      <td>NaN</td>\n",
       "      <td>20.41</td>\n",
       "      <td>NaN</td>\n",
       "      <td>70.31</td>\n",
       "      <td>138.35</td>\n",
       "      <td>1</td>\n",
       "      <td>155.05</td>\n",
       "    </tr>\n",
       "    <tr>\n",
       "      <th>0</th>\n",
       "      <td>365strong/1601</td>\n",
       "      <td>365Strong</td>\n",
       "      <td>2016-10-29</td>\n",
       "      <td>USA</td>\n",
       "      <td>NC</td>\n",
       "      <td>Charlotte</td>\n",
       "      <td>2016 Junior &amp; Senior National Powerlifting Cha...</td>\n",
       "      <td>Dawn Bogart</td>\n",
       "      <td>F</td>\n",
       "      <td>Single-ply</td>\n",
       "      <td>...</td>\n",
       "      <td>60</td>\n",
       "      <td>NaN</td>\n",
       "      <td>142.88</td>\n",
       "      <td>NaN</td>\n",
       "      <td>95.25</td>\n",
       "      <td>NaN</td>\n",
       "      <td>163.29</td>\n",
       "      <td>401.42</td>\n",
       "      <td>1</td>\n",
       "      <td>456.38</td>\n",
       "    </tr>\n",
       "    <tr>\n",
       "      <th>0</th>\n",
       "      <td>365strong/1601</td>\n",
       "      <td>365Strong</td>\n",
       "      <td>2016-10-29</td>\n",
       "      <td>USA</td>\n",
       "      <td>NC</td>\n",
       "      <td>Charlotte</td>\n",
       "      <td>2016 Junior &amp; Senior National Powerlifting Cha...</td>\n",
       "      <td>Dawn Bogart</td>\n",
       "      <td>F</td>\n",
       "      <td>Single-ply</td>\n",
       "      <td>...</td>\n",
       "      <td>60</td>\n",
       "      <td>NaN</td>\n",
       "      <td>142.88</td>\n",
       "      <td>NaN</td>\n",
       "      <td>95.25</td>\n",
       "      <td>NaN</td>\n",
       "      <td>163.29</td>\n",
       "      <td>401.42</td>\n",
       "      <td>1</td>\n",
       "      <td>456.38</td>\n",
       "    </tr>\n",
       "    <tr>\n",
       "      <th>0</th>\n",
       "      <td>365strong/1601</td>\n",
       "      <td>365Strong</td>\n",
       "      <td>2016-10-29</td>\n",
       "      <td>USA</td>\n",
       "      <td>NC</td>\n",
       "      <td>Charlotte</td>\n",
       "      <td>2016 Junior &amp; Senior National Powerlifting Cha...</td>\n",
       "      <td>Dawn Bogart</td>\n",
       "      <td>F</td>\n",
       "      <td>Raw</td>\n",
       "      <td>...</td>\n",
       "      <td>60</td>\n",
       "      <td>NaN</td>\n",
       "      <td>NaN</td>\n",
       "      <td>NaN</td>\n",
       "      <td>95.25</td>\n",
       "      <td>NaN</td>\n",
       "      <td>NaN</td>\n",
       "      <td>95.25</td>\n",
       "      <td>1</td>\n",
       "      <td>108.29</td>\n",
       "    </tr>\n",
       "    <tr>\n",
       "      <th>0</th>\n",
       "      <td>365strong/1601</td>\n",
       "      <td>365Strong</td>\n",
       "      <td>2016-10-29</td>\n",
       "      <td>USA</td>\n",
       "      <td>NC</td>\n",
       "      <td>Charlotte</td>\n",
       "      <td>2016 Junior &amp; Senior National Powerlifting Cha...</td>\n",
       "      <td>Destiny Dula</td>\n",
       "      <td>F</td>\n",
       "      <td>Raw</td>\n",
       "      <td>...</td>\n",
       "      <td>67.5</td>\n",
       "      <td>NaN</td>\n",
       "      <td>NaN</td>\n",
       "      <td>NaN</td>\n",
       "      <td>31.75</td>\n",
       "      <td>NaN</td>\n",
       "      <td>90.72</td>\n",
       "      <td>122.47</td>\n",
       "      <td>1</td>\n",
       "      <td>130.47</td>\n",
       "    </tr>\n",
       "    <tr>\n",
       "      <th>...</th>\n",
       "      <td>...</td>\n",
       "      <td>...</td>\n",
       "      <td>...</td>\n",
       "      <td>...</td>\n",
       "      <td>...</td>\n",
       "      <td>...</td>\n",
       "      <td>...</td>\n",
       "      <td>...</td>\n",
       "      <td>...</td>\n",
       "      <td>...</td>\n",
       "      <td>...</td>\n",
       "      <td>...</td>\n",
       "      <td>...</td>\n",
       "      <td>...</td>\n",
       "      <td>...</td>\n",
       "      <td>...</td>\n",
       "      <td>...</td>\n",
       "      <td>...</td>\n",
       "      <td>...</td>\n",
       "      <td>...</td>\n",
       "      <td>...</td>\n",
       "    </tr>\n",
       "    <tr>\n",
       "      <th>8481</th>\n",
       "      <td>xpc/2017-finals</td>\n",
       "      <td>XPC</td>\n",
       "      <td>2017-03-03</td>\n",
       "      <td>USA</td>\n",
       "      <td>OH</td>\n",
       "      <td>Columbus</td>\n",
       "      <td>2017 XPC Finals</td>\n",
       "      <td>William Barabas</td>\n",
       "      <td>M</td>\n",
       "      <td>Multi-ply</td>\n",
       "      <td>...</td>\n",
       "      <td>125</td>\n",
       "      <td>NaN</td>\n",
       "      <td>NaN</td>\n",
       "      <td>NaN</td>\n",
       "      <td>NaN</td>\n",
       "      <td>NaN</td>\n",
       "      <td>347.50</td>\n",
       "      <td>347.50</td>\n",
       "      <td>2</td>\n",
       "      <td>202.60</td>\n",
       "    </tr>\n",
       "    <tr>\n",
       "      <th>8481</th>\n",
       "      <td>xpc/2017-finals</td>\n",
       "      <td>XPC</td>\n",
       "      <td>2017-03-03</td>\n",
       "      <td>USA</td>\n",
       "      <td>OH</td>\n",
       "      <td>Columbus</td>\n",
       "      <td>2017 XPC Finals</td>\n",
       "      <td>Justin Zottl</td>\n",
       "      <td>M</td>\n",
       "      <td>Multi-ply</td>\n",
       "      <td>...</td>\n",
       "      <td>125</td>\n",
       "      <td>NaN</td>\n",
       "      <td>NaN</td>\n",
       "      <td>NaN</td>\n",
       "      <td>NaN</td>\n",
       "      <td>NaN</td>\n",
       "      <td>322.50</td>\n",
       "      <td>322.50</td>\n",
       "      <td>3</td>\n",
       "      <td>185.77</td>\n",
       "    </tr>\n",
       "    <tr>\n",
       "      <th>8481</th>\n",
       "      <td>xpc/2017-finals</td>\n",
       "      <td>XPC</td>\n",
       "      <td>2017-03-03</td>\n",
       "      <td>USA</td>\n",
       "      <td>OH</td>\n",
       "      <td>Columbus</td>\n",
       "      <td>2017 XPC Finals</td>\n",
       "      <td>Jake Anderson</td>\n",
       "      <td>M</td>\n",
       "      <td>Multi-ply</td>\n",
       "      <td>...</td>\n",
       "      <td>125</td>\n",
       "      <td>NaN</td>\n",
       "      <td>NaN</td>\n",
       "      <td>NaN</td>\n",
       "      <td>NaN</td>\n",
       "      <td>NaN</td>\n",
       "      <td>367.50</td>\n",
       "      <td>367.50</td>\n",
       "      <td>1</td>\n",
       "      <td>211.17</td>\n",
       "    </tr>\n",
       "    <tr>\n",
       "      <th>8481</th>\n",
       "      <td>xpc/2017-finals</td>\n",
       "      <td>XPC</td>\n",
       "      <td>2017-03-03</td>\n",
       "      <td>USA</td>\n",
       "      <td>OH</td>\n",
       "      <td>Columbus</td>\n",
       "      <td>2017 XPC Finals</td>\n",
       "      <td>Jeff Bumanglag</td>\n",
       "      <td>M</td>\n",
       "      <td>Multi-ply</td>\n",
       "      <td>...</td>\n",
       "      <td>140</td>\n",
       "      <td>NaN</td>\n",
       "      <td>NaN</td>\n",
       "      <td>NaN</td>\n",
       "      <td>NaN</td>\n",
       "      <td>NaN</td>\n",
       "      <td>320.00</td>\n",
       "      <td>320.00</td>\n",
       "      <td>3</td>\n",
       "      <td>181.85</td>\n",
       "    </tr>\n",
       "    <tr>\n",
       "      <th>8481</th>\n",
       "      <td>xpc/2017-finals</td>\n",
       "      <td>XPC</td>\n",
       "      <td>2017-03-03</td>\n",
       "      <td>USA</td>\n",
       "      <td>OH</td>\n",
       "      <td>Columbus</td>\n",
       "      <td>2017 XPC Finals</td>\n",
       "      <td>Shane Hammock</td>\n",
       "      <td>M</td>\n",
       "      <td>Multi-ply</td>\n",
       "      <td>...</td>\n",
       "      <td>140</td>\n",
       "      <td>NaN</td>\n",
       "      <td>NaN</td>\n",
       "      <td>NaN</td>\n",
       "      <td>NaN</td>\n",
       "      <td>NaN</td>\n",
       "      <td>362.50</td>\n",
       "      <td>362.50</td>\n",
       "      <td>2</td>\n",
       "      <td>205.18</td>\n",
       "    </tr>\n",
       "  </tbody>\n",
       "</table>\n",
       "<p>386414 rows × 23 columns</p>\n",
       "</div>"
      ],
      "text/plain": [
       "               MeetPath Federation        Date MeetCountry MeetState  \\\n",
       "MeetID                                                                 \n",
       "0        365strong/1601  365Strong  2016-10-29         USA        NC   \n",
       "0        365strong/1601  365Strong  2016-10-29         USA        NC   \n",
       "0        365strong/1601  365Strong  2016-10-29         USA        NC   \n",
       "0        365strong/1601  365Strong  2016-10-29         USA        NC   \n",
       "0        365strong/1601  365Strong  2016-10-29         USA        NC   \n",
       "...                 ...        ...         ...         ...       ...   \n",
       "8481    xpc/2017-finals        XPC  2017-03-03         USA        OH   \n",
       "8481    xpc/2017-finals        XPC  2017-03-03         USA        OH   \n",
       "8481    xpc/2017-finals        XPC  2017-03-03         USA        OH   \n",
       "8481    xpc/2017-finals        XPC  2017-03-03         USA        OH   \n",
       "8481    xpc/2017-finals        XPC  2017-03-03         USA        OH   \n",
       "\n",
       "         MeetTown                                           MeetName  \\\n",
       "MeetID                                                                 \n",
       "0       Charlotte  2016 Junior & Senior National Powerlifting Cha...   \n",
       "0       Charlotte  2016 Junior & Senior National Powerlifting Cha...   \n",
       "0       Charlotte  2016 Junior & Senior National Powerlifting Cha...   \n",
       "0       Charlotte  2016 Junior & Senior National Powerlifting Cha...   \n",
       "0       Charlotte  2016 Junior & Senior National Powerlifting Cha...   \n",
       "...           ...                                                ...   \n",
       "8481     Columbus                                    2017 XPC Finals   \n",
       "8481     Columbus                                    2017 XPC Finals   \n",
       "8481     Columbus                                    2017 XPC Finals   \n",
       "8481     Columbus                                    2017 XPC Finals   \n",
       "8481     Columbus                                    2017 XPC Finals   \n",
       "\n",
       "                    Name Sex   Equipment  ...  WeightClassKg Squat4Kg  \\\n",
       "MeetID                                    ...                           \n",
       "0       Angie Belk Terry   F       Wraps  ...             60      NaN   \n",
       "0            Dawn Bogart   F  Single-ply  ...             60      NaN   \n",
       "0            Dawn Bogart   F  Single-ply  ...             60      NaN   \n",
       "0            Dawn Bogart   F         Raw  ...             60      NaN   \n",
       "0           Destiny Dula   F         Raw  ...           67.5      NaN   \n",
       "...                  ...  ..         ...  ...            ...      ...   \n",
       "8481     William Barabas   M   Multi-ply  ...            125      NaN   \n",
       "8481        Justin Zottl   M   Multi-ply  ...            125      NaN   \n",
       "8481       Jake Anderson   M   Multi-ply  ...            125      NaN   \n",
       "8481      Jeff Bumanglag   M   Multi-ply  ...            140      NaN   \n",
       "8481       Shane Hammock   M   Multi-ply  ...            140      NaN   \n",
       "\n",
       "        BestSquatKg Bench4Kg  BestBenchKg  Deadlift4Kg  BestDeadliftKg  \\\n",
       "MeetID                                                                   \n",
       "0             47.63      NaN        20.41          NaN           70.31   \n",
       "0            142.88      NaN        95.25          NaN          163.29   \n",
       "0            142.88      NaN        95.25          NaN          163.29   \n",
       "0               NaN      NaN        95.25          NaN             NaN   \n",
       "0               NaN      NaN        31.75          NaN           90.72   \n",
       "...             ...      ...          ...          ...             ...   \n",
       "8481            NaN      NaN          NaN          NaN          347.50   \n",
       "8481            NaN      NaN          NaN          NaN          322.50   \n",
       "8481            NaN      NaN          NaN          NaN          367.50   \n",
       "8481            NaN      NaN          NaN          NaN          320.00   \n",
       "8481            NaN      NaN          NaN          NaN          362.50   \n",
       "\n",
       "        TotalKg  Place   Wilks  \n",
       "MeetID                          \n",
       "0        138.35      1  155.05  \n",
       "0        401.42      1  456.38  \n",
       "0        401.42      1  456.38  \n",
       "0         95.25      1  108.29  \n",
       "0        122.47      1  130.47  \n",
       "...         ...    ...     ...  \n",
       "8481     347.50      2  202.60  \n",
       "8481     322.50      3  185.77  \n",
       "8481     367.50      1  211.17  \n",
       "8481     320.00      3  181.85  \n",
       "8481     362.50      2  205.18  \n",
       "\n",
       "[386414 rows x 23 columns]"
      ]
     },
     "execution_count": 11,
     "metadata": {},
     "output_type": "execute_result"
    }
   ],
   "source": [
    "powerlifting_combined = powerlifting_meets.set_index(\"MeetID\").join(powerlifting_competitors.set_index(\"MeetID\"))\n",
    "# Check your answer\n",
    "q4.check()\n",
    "powerlifting_combined"
   ]
  },
  {
   "cell_type": "code",
   "execution_count": 12,
   "id": "fdfa0faa",
   "metadata": {
    "execution": {
     "iopub.execute_input": "2022-02-25T14:37:38.938850Z",
     "iopub.status.busy": "2022-02-25T14:37:38.938203Z",
     "iopub.status.idle": "2022-02-25T14:37:38.940063Z",
     "shell.execute_reply": "2022-02-25T14:37:38.940590Z",
     "shell.execute_reply.started": "2022-02-25T14:33:46.402313Z"
    },
    "papermill": {
     "duration": 0.033521,
     "end_time": "2022-02-25T14:37:38.940746",
     "exception": false,
     "start_time": "2022-02-25T14:37:38.907225",
     "status": "completed"
    },
    "tags": []
   },
   "outputs": [],
   "source": [
    "# q4.hint()\n",
    "# q4.solution()"
   ]
  },
  {
   "cell_type": "markdown",
   "id": "d74899fd",
   "metadata": {
    "papermill": {
     "duration": 0.026967,
     "end_time": "2022-02-25T14:37:38.995113",
     "exception": false,
     "start_time": "2022-02-25T14:37:38.968146",
     "status": "completed"
    },
    "tags": []
   },
   "source": [
    "# Congratulations!\n",
    "\n",
    "You've finished the Pandas micro-course.  Many data scientists feel efficiency with Pandas is the most useful and practical skill they have, because it allows you to progress quickly in any project you have.\n",
    "\n",
    "If you'd like to apply your new skills to examining geospatial data, you're encouraged to check out our **[Geospatial Analysis](https://www.kaggle.com/learn/geospatial-analysis)** micro-course.\n",
    "\n",
    "You can also take advantage of your Pandas skills by entering a **[Kaggle Competition](https://www.kaggle.com/competitions)** or by answering a question you find interesting using **[Kaggle Datasets](https://www.kaggle.com/datasets)**."
   ]
  },
  {
   "cell_type": "markdown",
   "id": "9b65dcd3",
   "metadata": {
    "papermill": {
     "duration": 0.027464,
     "end_time": "2022-02-25T14:37:39.050713",
     "exception": false,
     "start_time": "2022-02-25T14:37:39.023249",
     "status": "completed"
    },
    "tags": []
   },
   "source": [
    "---\n",
    "\n",
    "\n",
    "\n",
    "\n",
    "*Have questions or comments? Visit the [course discussion forum](https://www.kaggle.com/learn/pandas/discussion) to chat with other learners.*"
   ]
  }
 ],
 "metadata": {
  "kernelspec": {
   "display_name": "Python 3",
   "language": "python",
   "name": "python3"
  },
  "language_info": {
   "codemirror_mode": {
    "name": "ipython",
    "version": 3
   },
   "file_extension": ".py",
   "mimetype": "text/x-python",
   "name": "python",
   "nbconvert_exporter": "python",
   "pygments_lexer": "ipython3",
   "version": "3.7.12"
  },
  "papermill": {
   "default_parameters": {},
   "duration": 19.166009,
   "end_time": "2022-02-25T14:37:39.792155",
   "environment_variables": {},
   "exception": null,
   "input_path": "__notebook__.ipynb",
   "output_path": "__notebook__.ipynb",
   "parameters": {},
   "start_time": "2022-02-25T14:37:20.626146",
   "version": "2.3.3"
  }
 },
 "nbformat": 4,
 "nbformat_minor": 5
}
