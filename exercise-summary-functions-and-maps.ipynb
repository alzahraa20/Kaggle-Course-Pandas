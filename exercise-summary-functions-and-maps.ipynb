{
 "cells": [
  {
   "cell_type": "markdown",
   "id": "4f675718",
   "metadata": {
    "papermill": {
     "duration": 0.022976,
     "end_time": "2022-02-19T21:48:45.727768",
     "exception": false,
     "start_time": "2022-02-19T21:48:45.704792",
     "status": "completed"
    },
    "tags": []
   },
   "source": [
    "**This notebook is an exercise in the [Pandas](https://www.kaggle.com/learn/pandas) course.  You can reference the tutorial at [this link](https://www.kaggle.com/residentmario/summary-functions-and-maps).**\n",
    "\n",
    "---\n"
   ]
  },
  {
   "cell_type": "markdown",
   "id": "f24459be",
   "metadata": {
    "papermill": {
     "duration": 0.02239,
     "end_time": "2022-02-19T21:48:45.773083",
     "exception": false,
     "start_time": "2022-02-19T21:48:45.750693",
     "status": "completed"
    },
    "tags": []
   },
   "source": [
    "# Introduction\n",
    "\n",
    "Now you are ready to get a deeper understanding of your data.\n",
    "\n",
    "Run the following cell to load your data and some utility functions (including code to check your answers)."
   ]
  },
  {
   "cell_type": "code",
   "execution_count": 1,
   "id": "8747bbff",
   "metadata": {
    "execution": {
     "iopub.execute_input": "2022-02-19T21:48:45.826999Z",
     "iopub.status.busy": "2022-02-19T21:48:45.826336Z",
     "iopub.status.idle": "2022-02-19T21:48:54.291173Z",
     "shell.execute_reply": "2022-02-19T21:48:54.291697Z",
     "shell.execute_reply.started": "2022-02-19T21:05:34.910680Z"
    },
    "papermill": {
     "duration": 8.496408,
     "end_time": "2022-02-19T21:48:54.291991",
     "exception": false,
     "start_time": "2022-02-19T21:48:45.795583",
     "status": "completed"
    },
    "tags": []
   },
   "outputs": [
    {
     "name": "stdout",
     "output_type": "stream",
     "text": [
      "Setup complete.\n"
     ]
    },
    {
     "data": {
      "text/html": [
       "<div>\n",
       "<style scoped>\n",
       "    .dataframe tbody tr th:only-of-type {\n",
       "        vertical-align: middle;\n",
       "    }\n",
       "\n",
       "    .dataframe tbody tr th {\n",
       "        vertical-align: top;\n",
       "    }\n",
       "\n",
       "    .dataframe thead th {\n",
       "        text-align: right;\n",
       "    }\n",
       "</style>\n",
       "<table border=\"1\" class=\"dataframe\">\n",
       "  <thead>\n",
       "    <tr style=\"text-align: right;\">\n",
       "      <th></th>\n",
       "      <th>country</th>\n",
       "      <th>description</th>\n",
       "      <th>designation</th>\n",
       "      <th>points</th>\n",
       "      <th>price</th>\n",
       "      <th>province</th>\n",
       "      <th>region_1</th>\n",
       "      <th>region_2</th>\n",
       "      <th>taster_name</th>\n",
       "      <th>taster_twitter_handle</th>\n",
       "      <th>title</th>\n",
       "      <th>variety</th>\n",
       "      <th>winery</th>\n",
       "    </tr>\n",
       "  </thead>\n",
       "  <tbody>\n",
       "    <tr>\n",
       "      <th>0</th>\n",
       "      <td>Italy</td>\n",
       "      <td>Aromas include tropical fruit, broom, brimston...</td>\n",
       "      <td>Vulkà Bianco</td>\n",
       "      <td>87</td>\n",
       "      <td>NaN</td>\n",
       "      <td>Sicily &amp; Sardinia</td>\n",
       "      <td>Etna</td>\n",
       "      <td>NaN</td>\n",
       "      <td>Kerin O’Keefe</td>\n",
       "      <td>@kerinokeefe</td>\n",
       "      <td>Nicosia 2013 Vulkà Bianco  (Etna)</td>\n",
       "      <td>White Blend</td>\n",
       "      <td>Nicosia</td>\n",
       "    </tr>\n",
       "    <tr>\n",
       "      <th>1</th>\n",
       "      <td>Portugal</td>\n",
       "      <td>This is ripe and fruity, a wine that is smooth...</td>\n",
       "      <td>Avidagos</td>\n",
       "      <td>87</td>\n",
       "      <td>15.0</td>\n",
       "      <td>Douro</td>\n",
       "      <td>NaN</td>\n",
       "      <td>NaN</td>\n",
       "      <td>Roger Voss</td>\n",
       "      <td>@vossroger</td>\n",
       "      <td>Quinta dos Avidagos 2011 Avidagos Red (Douro)</td>\n",
       "      <td>Portuguese Red</td>\n",
       "      <td>Quinta dos Avidagos</td>\n",
       "    </tr>\n",
       "    <tr>\n",
       "      <th>2</th>\n",
       "      <td>US</td>\n",
       "      <td>Tart and snappy, the flavors of lime flesh and...</td>\n",
       "      <td>NaN</td>\n",
       "      <td>87</td>\n",
       "      <td>14.0</td>\n",
       "      <td>Oregon</td>\n",
       "      <td>Willamette Valley</td>\n",
       "      <td>Willamette Valley</td>\n",
       "      <td>Paul Gregutt</td>\n",
       "      <td>@paulgwine</td>\n",
       "      <td>Rainstorm 2013 Pinot Gris (Willamette Valley)</td>\n",
       "      <td>Pinot Gris</td>\n",
       "      <td>Rainstorm</td>\n",
       "    </tr>\n",
       "    <tr>\n",
       "      <th>3</th>\n",
       "      <td>US</td>\n",
       "      <td>Pineapple rind, lemon pith and orange blossom ...</td>\n",
       "      <td>Reserve Late Harvest</td>\n",
       "      <td>87</td>\n",
       "      <td>13.0</td>\n",
       "      <td>Michigan</td>\n",
       "      <td>Lake Michigan Shore</td>\n",
       "      <td>NaN</td>\n",
       "      <td>Alexander Peartree</td>\n",
       "      <td>NaN</td>\n",
       "      <td>St. Julian 2013 Reserve Late Harvest Riesling ...</td>\n",
       "      <td>Riesling</td>\n",
       "      <td>St. Julian</td>\n",
       "    </tr>\n",
       "    <tr>\n",
       "      <th>4</th>\n",
       "      <td>US</td>\n",
       "      <td>Much like the regular bottling from 2012, this...</td>\n",
       "      <td>Vintner's Reserve Wild Child Block</td>\n",
       "      <td>87</td>\n",
       "      <td>65.0</td>\n",
       "      <td>Oregon</td>\n",
       "      <td>Willamette Valley</td>\n",
       "      <td>Willamette Valley</td>\n",
       "      <td>Paul Gregutt</td>\n",
       "      <td>@paulgwine</td>\n",
       "      <td>Sweet Cheeks 2012 Vintner's Reserve Wild Child...</td>\n",
       "      <td>Pinot Noir</td>\n",
       "      <td>Sweet Cheeks</td>\n",
       "    </tr>\n",
       "  </tbody>\n",
       "</table>\n",
       "</div>"
      ],
      "text/plain": [
       "    country                                        description  \\\n",
       "0     Italy  Aromas include tropical fruit, broom, brimston...   \n",
       "1  Portugal  This is ripe and fruity, a wine that is smooth...   \n",
       "2        US  Tart and snappy, the flavors of lime flesh and...   \n",
       "3        US  Pineapple rind, lemon pith and orange blossom ...   \n",
       "4        US  Much like the regular bottling from 2012, this...   \n",
       "\n",
       "                          designation  points  price           province  \\\n",
       "0                        Vulkà Bianco      87    NaN  Sicily & Sardinia   \n",
       "1                            Avidagos      87   15.0              Douro   \n",
       "2                                 NaN      87   14.0             Oregon   \n",
       "3                Reserve Late Harvest      87   13.0           Michigan   \n",
       "4  Vintner's Reserve Wild Child Block      87   65.0             Oregon   \n",
       "\n",
       "              region_1           region_2         taster_name  \\\n",
       "0                 Etna                NaN       Kerin O’Keefe   \n",
       "1                  NaN                NaN          Roger Voss   \n",
       "2    Willamette Valley  Willamette Valley        Paul Gregutt   \n",
       "3  Lake Michigan Shore                NaN  Alexander Peartree   \n",
       "4    Willamette Valley  Willamette Valley        Paul Gregutt   \n",
       "\n",
       "  taster_twitter_handle                                              title  \\\n",
       "0          @kerinokeefe                  Nicosia 2013 Vulkà Bianco  (Etna)   \n",
       "1            @vossroger      Quinta dos Avidagos 2011 Avidagos Red (Douro)   \n",
       "2           @paulgwine       Rainstorm 2013 Pinot Gris (Willamette Valley)   \n",
       "3                   NaN  St. Julian 2013 Reserve Late Harvest Riesling ...   \n",
       "4           @paulgwine   Sweet Cheeks 2012 Vintner's Reserve Wild Child...   \n",
       "\n",
       "          variety               winery  \n",
       "0     White Blend              Nicosia  \n",
       "1  Portuguese Red  Quinta dos Avidagos  \n",
       "2      Pinot Gris            Rainstorm  \n",
       "3        Riesling           St. Julian  \n",
       "4      Pinot Noir         Sweet Cheeks  "
      ]
     },
     "execution_count": 1,
     "metadata": {},
     "output_type": "execute_result"
    }
   ],
   "source": [
    "import pandas as pd\n",
    "pd.set_option(\"display.max_rows\", 5)\n",
    "reviews = pd.read_csv(\"../input/wine-reviews/winemag-data-130k-v2.csv\", index_col=0)\n",
    "\n",
    "from learntools.core import binder; binder.bind(globals())\n",
    "from learntools.pandas.summary_functions_and_maps import *\n",
    "print(\"Setup complete.\")\n",
    "\n",
    "reviews.head()"
   ]
  },
  {
   "cell_type": "markdown",
   "id": "983c514d",
   "metadata": {
    "papermill": {
     "duration": 0.022941,
     "end_time": "2022-02-19T21:48:54.338457",
     "exception": false,
     "start_time": "2022-02-19T21:48:54.315516",
     "status": "completed"
    },
    "tags": []
   },
   "source": [
    "# Exercises"
   ]
  },
  {
   "cell_type": "markdown",
   "id": "8fc2ad8d",
   "metadata": {
    "papermill": {
     "duration": 0.022796,
     "end_time": "2022-02-19T21:48:54.384500",
     "exception": false,
     "start_time": "2022-02-19T21:48:54.361704",
     "status": "completed"
    },
    "tags": []
   },
   "source": [
    "## 1.\n",
    "\n",
    "What is the median of the `points` column in the `reviews` DataFrame?"
   ]
  },
  {
   "cell_type": "code",
   "execution_count": 2,
   "id": "06ddb5e2",
   "metadata": {
    "execution": {
     "iopub.execute_input": "2022-02-19T21:48:54.436627Z",
     "iopub.status.busy": "2022-02-19T21:48:54.435649Z",
     "iopub.status.idle": "2022-02-19T21:48:54.442526Z",
     "shell.execute_reply": "2022-02-19T21:48:54.443129Z"
    },
    "papermill": {
     "duration": 0.035842,
     "end_time": "2022-02-19T21:48:54.443320",
     "exception": false,
     "start_time": "2022-02-19T21:48:54.407478",
     "status": "completed"
    },
    "tags": []
   },
   "outputs": [
    {
     "data": {
      "application/javascript": [
       "parent.postMessage({\"jupyterEvent\": \"custom.exercise_interaction\", \"data\": {\"outcomeType\": 1, \"valueTowardsCompletion\": 0.14285714285714285, \"interactionType\": 1, \"questionType\": 1, \"questionId\": \"1_MedianPoints\", \"learnToolsVersion\": \"0.3.4\", \"failureMessage\": \"\", \"exceptionClass\": \"\", \"trace\": \"\"}}, \"*\")"
      ],
      "text/plain": [
       "<IPython.core.display.Javascript object>"
      ]
     },
     "metadata": {},
     "output_type": "display_data"
    },
    {
     "data": {
      "text/markdown": [
       "<span style=\"color:#33cc33\">Correct</span>"
      ],
      "text/plain": [
       "Correct"
      ]
     },
     "metadata": {},
     "output_type": "display_data"
    }
   ],
   "source": [
    "median_points = reviews.points.median()\n",
    "\n",
    "# Check your answer\n",
    "q1.check()"
   ]
  },
  {
   "cell_type": "code",
   "execution_count": 3,
   "id": "5b7735a1",
   "metadata": {
    "execution": {
     "iopub.execute_input": "2022-02-19T21:48:54.496373Z",
     "iopub.status.busy": "2022-02-19T21:48:54.495659Z",
     "iopub.status.idle": "2022-02-19T21:48:54.497220Z",
     "shell.execute_reply": "2022-02-19T21:48:54.497847Z"
    },
    "papermill": {
     "duration": 0.030226,
     "end_time": "2022-02-19T21:48:54.498010",
     "exception": false,
     "start_time": "2022-02-19T21:48:54.467784",
     "status": "completed"
    },
    "tags": []
   },
   "outputs": [],
   "source": [
    "#q1.hint()\n",
    "#q1.solution()"
   ]
  },
  {
   "cell_type": "markdown",
   "id": "3f92d2a5",
   "metadata": {
    "papermill": {
     "duration": 0.024497,
     "end_time": "2022-02-19T21:48:54.548380",
     "exception": false,
     "start_time": "2022-02-19T21:48:54.523883",
     "status": "completed"
    },
    "tags": []
   },
   "source": [
    "## 2. \n",
    "What countries are represented in the dataset? (Your answer should not include any duplicates.)"
   ]
  },
  {
   "cell_type": "code",
   "execution_count": 4,
   "id": "2c0db8db",
   "metadata": {
    "execution": {
     "iopub.execute_input": "2022-02-19T21:48:54.601636Z",
     "iopub.status.busy": "2022-02-19T21:48:54.600920Z",
     "iopub.status.idle": "2022-02-19T21:48:54.623648Z",
     "shell.execute_reply": "2022-02-19T21:48:54.622969Z"
    },
    "papermill": {
     "duration": 0.050418,
     "end_time": "2022-02-19T21:48:54.623806",
     "exception": false,
     "start_time": "2022-02-19T21:48:54.573388",
     "status": "completed"
    },
    "tags": []
   },
   "outputs": [
    {
     "data": {
      "application/javascript": [
       "parent.postMessage({\"jupyterEvent\": \"custom.exercise_interaction\", \"data\": {\"outcomeType\": 1, \"valueTowardsCompletion\": 0.14285714285714285, \"interactionType\": 1, \"questionType\": 2, \"questionId\": \"2_UniqueCountries\", \"learnToolsVersion\": \"0.3.4\", \"failureMessage\": \"\", \"exceptionClass\": \"\", \"trace\": \"\"}}, \"*\")"
      ],
      "text/plain": [
       "<IPython.core.display.Javascript object>"
      ]
     },
     "metadata": {},
     "output_type": "display_data"
    },
    {
     "data": {
      "text/markdown": [
       "<span style=\"color:#33cc33\">Correct</span>"
      ],
      "text/plain": [
       "Correct"
      ]
     },
     "metadata": {},
     "output_type": "display_data"
    }
   ],
   "source": [
    "countries = reviews.country.unique()\n",
    "\n",
    "# Check your answer\n",
    "q2.check()"
   ]
  },
  {
   "cell_type": "code",
   "execution_count": 5,
   "id": "6cee303c",
   "metadata": {
    "execution": {
     "iopub.execute_input": "2022-02-19T21:48:54.683585Z",
     "iopub.status.busy": "2022-02-19T21:48:54.682735Z",
     "iopub.status.idle": "2022-02-19T21:48:54.685227Z",
     "shell.execute_reply": "2022-02-19T21:48:54.685733Z"
    },
    "papermill": {
     "duration": 0.034602,
     "end_time": "2022-02-19T21:48:54.685984",
     "exception": false,
     "start_time": "2022-02-19T21:48:54.651382",
     "status": "completed"
    },
    "tags": []
   },
   "outputs": [],
   "source": [
    "#q2.hint()\n",
    "#q2.solution()"
   ]
  },
  {
   "cell_type": "markdown",
   "id": "78b1c443",
   "metadata": {
    "papermill": {
     "duration": 0.02587,
     "end_time": "2022-02-19T21:48:54.738075",
     "exception": false,
     "start_time": "2022-02-19T21:48:54.712205",
     "status": "completed"
    },
    "tags": []
   },
   "source": [
    "## 3.\n",
    "How often does each country appear in the dataset? Create a Series `reviews_per_country` mapping countries to the count of reviews of wines from that country."
   ]
  },
  {
   "cell_type": "code",
   "execution_count": 6,
   "id": "1560a211",
   "metadata": {
    "execution": {
     "iopub.execute_input": "2022-02-19T21:48:54.815973Z",
     "iopub.status.busy": "2022-02-19T21:48:54.815114Z",
     "iopub.status.idle": "2022-02-19T21:48:54.819810Z",
     "shell.execute_reply": "2022-02-19T21:48:54.819132Z"
    },
    "papermill": {
     "duration": 0.055737,
     "end_time": "2022-02-19T21:48:54.819957",
     "exception": false,
     "start_time": "2022-02-19T21:48:54.764220",
     "status": "completed"
    },
    "tags": []
   },
   "outputs": [
    {
     "data": {
      "application/javascript": [
       "parent.postMessage({\"jupyterEvent\": \"custom.exercise_interaction\", \"data\": {\"outcomeType\": 1, \"valueTowardsCompletion\": 0.14285714285714285, \"interactionType\": 1, \"questionType\": 1, \"questionId\": \"3_ReviewsPerCountry\", \"learnToolsVersion\": \"0.3.4\", \"failureMessage\": \"\", \"exceptionClass\": \"\", \"trace\": \"\"}}, \"*\")"
      ],
      "text/plain": [
       "<IPython.core.display.Javascript object>"
      ]
     },
     "metadata": {},
     "output_type": "display_data"
    },
    {
     "data": {
      "text/markdown": [
       "<span style=\"color:#33cc33\">Correct</span>"
      ],
      "text/plain": [
       "Correct"
      ]
     },
     "metadata": {},
     "output_type": "display_data"
    }
   ],
   "source": [
    "reviews_per_country = reviews.country.value_counts()\n",
    "\n",
    "# Check your answer\n",
    "q3.check()"
   ]
  },
  {
   "cell_type": "code",
   "execution_count": 7,
   "id": "31f17e8a",
   "metadata": {
    "execution": {
     "iopub.execute_input": "2022-02-19T21:48:54.880446Z",
     "iopub.status.busy": "2022-02-19T21:48:54.879705Z",
     "iopub.status.idle": "2022-02-19T21:48:54.883183Z",
     "shell.execute_reply": "2022-02-19T21:48:54.882611Z"
    },
    "papermill": {
     "duration": 0.034637,
     "end_time": "2022-02-19T21:48:54.883361",
     "exception": false,
     "start_time": "2022-02-19T21:48:54.848724",
     "status": "completed"
    },
    "tags": []
   },
   "outputs": [],
   "source": [
    "#q3.hint()\n",
    "#q3.solution()"
   ]
  },
  {
   "cell_type": "markdown",
   "id": "38791614",
   "metadata": {
    "papermill": {
     "duration": 0.028559,
     "end_time": "2022-02-19T21:48:54.941360",
     "exception": false,
     "start_time": "2022-02-19T21:48:54.912801",
     "status": "completed"
    },
    "tags": []
   },
   "source": [
    "## 4.\n",
    "Create variable `centered_price` containing a version of the `price` column with the mean price subtracted.\n",
    "\n",
    "(Note: this 'centering' transformation is a common preprocessing step before applying various machine learning algorithms.) "
   ]
  },
  {
   "cell_type": "code",
   "execution_count": 8,
   "id": "5f070778",
   "metadata": {
    "execution": {
     "iopub.execute_input": "2022-02-19T21:48:55.001642Z",
     "iopub.status.busy": "2022-02-19T21:48:55.000921Z",
     "iopub.status.idle": "2022-02-19T21:48:55.009875Z",
     "shell.execute_reply": "2022-02-19T21:48:55.009287Z",
     "shell.execute_reply.started": "2022-02-19T20:49:51.918551Z"
    },
    "papermill": {
     "duration": 0.041023,
     "end_time": "2022-02-19T21:48:55.010018",
     "exception": false,
     "start_time": "2022-02-19T21:48:54.968995",
     "status": "completed"
    },
    "tags": []
   },
   "outputs": [
    {
     "data": {
      "application/javascript": [
       "parent.postMessage({\"jupyterEvent\": \"custom.exercise_interaction\", \"data\": {\"outcomeType\": 1, \"valueTowardsCompletion\": 0.14285714285714285, \"interactionType\": 1, \"questionType\": 1, \"questionId\": \"4_CenteredPrice\", \"learnToolsVersion\": \"0.3.4\", \"failureMessage\": \"\", \"exceptionClass\": \"\", \"trace\": \"\"}}, \"*\")"
      ],
      "text/plain": [
       "<IPython.core.display.Javascript object>"
      ]
     },
     "metadata": {},
     "output_type": "display_data"
    },
    {
     "data": {
      "text/markdown": [
       "<span style=\"color:#33cc33\">Correct</span>"
      ],
      "text/plain": [
       "Correct"
      ]
     },
     "metadata": {},
     "output_type": "display_data"
    }
   ],
   "source": [
    "centered_price =  reviews.price - reviews.price.mean() \n",
    "\n",
    "# Check your answer\n",
    "q4.check()"
   ]
  },
  {
   "cell_type": "code",
   "execution_count": 9,
   "id": "22497ad4",
   "metadata": {
    "execution": {
     "iopub.execute_input": "2022-02-19T21:48:55.071933Z",
     "iopub.status.busy": "2022-02-19T21:48:55.071278Z",
     "iopub.status.idle": "2022-02-19T21:48:55.073695Z",
     "shell.execute_reply": "2022-02-19T21:48:55.074266Z",
     "shell.execute_reply.started": "2022-02-19T20:50:00.830869Z"
    },
    "papermill": {
     "duration": 0.03549,
     "end_time": "2022-02-19T21:48:55.074452",
     "exception": false,
     "start_time": "2022-02-19T21:48:55.038962",
     "status": "completed"
    },
    "tags": []
   },
   "outputs": [],
   "source": [
    "#q4.hint()\n",
    "#q4.solution()"
   ]
  },
  {
   "cell_type": "markdown",
   "id": "4b50ccb6",
   "metadata": {
    "papermill": {
     "duration": 0.030007,
     "end_time": "2022-02-19T21:48:55.133506",
     "exception": false,
     "start_time": "2022-02-19T21:48:55.103499",
     "status": "completed"
    },
    "tags": []
   },
   "source": [
    "## 5.\n",
    "I'm an economical wine buyer. Which wine is the \"best bargain\"? Create a variable `bargain_wine` with the title of the wine with the highest points-to-price ratio in the dataset."
   ]
  },
  {
   "cell_type": "code",
   "execution_count": 10,
   "id": "02cae1b8",
   "metadata": {
    "execution": {
     "iopub.execute_input": "2022-02-19T21:48:55.197228Z",
     "iopub.status.busy": "2022-02-19T21:48:55.196537Z",
     "iopub.status.idle": "2022-02-19T21:48:55.206268Z",
     "shell.execute_reply": "2022-02-19T21:48:55.206809Z",
     "shell.execute_reply.started": "2022-02-19T21:07:15.874719Z"
    },
    "papermill": {
     "duration": 0.044656,
     "end_time": "2022-02-19T21:48:55.206991",
     "exception": false,
     "start_time": "2022-02-19T21:48:55.162335",
     "status": "completed"
    },
    "tags": []
   },
   "outputs": [
    {
     "data": {
      "application/javascript": [
       "parent.postMessage({\"jupyterEvent\": \"custom.exercise_interaction\", \"data\": {\"outcomeType\": 1, \"valueTowardsCompletion\": 0.14285714285714285, \"interactionType\": 1, \"questionType\": 2, \"questionId\": \"5_BargainWine\", \"learnToolsVersion\": \"0.3.4\", \"failureMessage\": \"\", \"exceptionClass\": \"\", \"trace\": \"\"}}, \"*\")"
      ],
      "text/plain": [
       "<IPython.core.display.Javascript object>"
      ]
     },
     "metadata": {},
     "output_type": "display_data"
    },
    {
     "data": {
      "text/markdown": [
       "<span style=\"color:#33cc33\">Correct</span>"
      ],
      "text/plain": [
       "Correct"
      ]
     },
     "metadata": {},
     "output_type": "display_data"
    }
   ],
   "source": [
    "\n",
    "bargain_wine = reviews.title[(reviews.points / reviews.price).idxmax()]\n",
    "\n",
    "# Check your answer\n",
    "q5.check()"
   ]
  },
  {
   "cell_type": "code",
   "execution_count": 11,
   "id": "8ec83bb1",
   "metadata": {
    "execution": {
     "iopub.execute_input": "2022-02-19T21:48:55.274031Z",
     "iopub.status.busy": "2022-02-19T21:48:55.273159Z",
     "iopub.status.idle": "2022-02-19T21:48:55.275349Z",
     "shell.execute_reply": "2022-02-19T21:48:55.275824Z",
     "shell.execute_reply.started": "2022-02-19T21:14:36.229456Z"
    },
    "papermill": {
     "duration": 0.036914,
     "end_time": "2022-02-19T21:48:55.275995",
     "exception": false,
     "start_time": "2022-02-19T21:48:55.239081",
     "status": "completed"
    },
    "tags": []
   },
   "outputs": [],
   "source": [
    "#q5.hint()\n",
    "#q5.solution()"
   ]
  },
  {
   "cell_type": "markdown",
   "id": "c5cb37da",
   "metadata": {
    "papermill": {
     "duration": 0.030996,
     "end_time": "2022-02-19T21:48:55.337919",
     "exception": false,
     "start_time": "2022-02-19T21:48:55.306923",
     "status": "completed"
    },
    "tags": []
   },
   "source": [
    "## 6.\n",
    "There are only so many words you can use when describing a bottle of wine. Is a wine more likely to be \"tropical\" or \"fruity\"? Create a Series `descriptor_counts` counting how many times each of these two words appears in the `description` column in the dataset. (For simplicity, let's ignore the capitalized versions of these words.)"
   ]
  },
  {
   "cell_type": "code",
   "execution_count": 12,
   "id": "fdf7122b",
   "metadata": {
    "execution": {
     "iopub.execute_input": "2022-02-19T21:48:55.418242Z",
     "iopub.status.busy": "2022-02-19T21:48:55.417520Z",
     "iopub.status.idle": "2022-02-19T21:48:55.553991Z",
     "shell.execute_reply": "2022-02-19T21:48:55.554456Z",
     "shell.execute_reply.started": "2022-02-19T21:33:39.976905Z"
    },
    "papermill": {
     "duration": 0.185372,
     "end_time": "2022-02-19T21:48:55.554632",
     "exception": false,
     "start_time": "2022-02-19T21:48:55.369260",
     "status": "completed"
    },
    "tags": []
   },
   "outputs": [
    {
     "data": {
      "application/javascript": [
       "parent.postMessage({\"jupyterEvent\": \"custom.exercise_interaction\", \"data\": {\"outcomeType\": 1, \"valueTowardsCompletion\": 0.14285714285714285, \"interactionType\": 1, \"questionType\": 1, \"questionId\": \"6_DescriptorCounts\", \"learnToolsVersion\": \"0.3.4\", \"failureMessage\": \"\", \"exceptionClass\": \"\", \"trace\": \"\"}}, \"*\")"
      ],
      "text/plain": [
       "<IPython.core.display.Javascript object>"
      ]
     },
     "metadata": {},
     "output_type": "display_data"
    },
    {
     "data": {
      "text/markdown": [
       "<span style=\"color:#33cc33\">Correct</span>"
      ],
      "text/plain": [
       "Correct"
      ]
     },
     "metadata": {},
     "output_type": "display_data"
    }
   ],
   "source": [
    "tropical_counts = reviews.description.map(lambda desc:\"tropical\" in desc).sum()\n",
    "fruity_counts = reviews.description.map(lambda desc:\"fruity\" in desc).sum()\n",
    "descriptor_counts = pd.Series([tropical_counts ,fruity_counts], index=['tropical', 'fruity'])\n",
    "# Check your answer\n",
    "q6.check()"
   ]
  },
  {
   "cell_type": "code",
   "execution_count": 13,
   "id": "26066233",
   "metadata": {
    "execution": {
     "iopub.execute_input": "2022-02-19T21:48:55.622196Z",
     "iopub.status.busy": "2022-02-19T21:48:55.621556Z",
     "iopub.status.idle": "2022-02-19T21:48:55.622919Z",
     "shell.execute_reply": "2022-02-19T21:48:55.623535Z",
     "shell.execute_reply.started": "2022-02-19T21:33:48.431554Z"
    },
    "papermill": {
     "duration": 0.037755,
     "end_time": "2022-02-19T21:48:55.623702",
     "exception": false,
     "start_time": "2022-02-19T21:48:55.585947",
     "status": "completed"
    },
    "tags": []
   },
   "outputs": [],
   "source": [
    "#q6.hint()\n",
    "#q6.solution()"
   ]
  },
  {
   "cell_type": "markdown",
   "id": "83926189",
   "metadata": {
    "papermill": {
     "duration": 0.030768,
     "end_time": "2022-02-19T21:48:55.685558",
     "exception": false,
     "start_time": "2022-02-19T21:48:55.654790",
     "status": "completed"
    },
    "tags": []
   },
   "source": [
    "## 7.\n",
    "We'd like to host these wine reviews on our website, but a rating system ranging from 80 to 100 points is too hard to understand - we'd like to translate them into simple star ratings. A score of 95 or higher counts as 3 stars, a score of at least 85 but less than 95 is 2 stars. Any other score is 1 star.\n",
    "\n",
    "Also, the Canadian Vintners Association bought a lot of ads on the site, so any wines from Canada should automatically get 3 stars, regardless of points.\n",
    "\n",
    "Create a series `star_ratings` with the number of stars corresponding to each review in the dataset."
   ]
  },
  {
   "cell_type": "code",
   "execution_count": 14,
   "id": "7865890c",
   "metadata": {
    "execution": {
     "iopub.execute_input": "2022-02-19T21:48:55.755397Z",
     "iopub.status.busy": "2022-02-19T21:48:55.754099Z",
     "iopub.status.idle": "2022-02-19T21:49:00.733903Z",
     "shell.execute_reply": "2022-02-19T21:49:00.734419Z",
     "shell.execute_reply.started": "2022-02-19T21:47:57.834102Z"
    },
    "papermill": {
     "duration": 5.018054,
     "end_time": "2022-02-19T21:49:00.734589",
     "exception": false,
     "start_time": "2022-02-19T21:48:55.716535",
     "status": "completed"
    },
    "tags": []
   },
   "outputs": [
    {
     "data": {
      "application/javascript": [
       "parent.postMessage({\"jupyterEvent\": \"custom.exercise_interaction\", \"data\": {\"outcomeType\": 1, \"valueTowardsCompletion\": 0.14285714285714285, \"interactionType\": 1, \"questionType\": 1, \"questionId\": \"7_StarRatings\", \"learnToolsVersion\": \"0.3.4\", \"failureMessage\": \"\", \"exceptionClass\": \"\", \"trace\": \"\"}}, \"*\")"
      ],
      "text/plain": [
       "<IPython.core.display.Javascript object>"
      ]
     },
     "metadata": {},
     "output_type": "display_data"
    },
    {
     "data": {
      "text/markdown": [
       "<span style=\"color:#33cc33\">Correct</span>"
      ],
      "text/plain": [
       "Correct"
      ]
     },
     "metadata": {},
     "output_type": "display_data"
    }
   ],
   "source": [
    "def ratings(row):\n",
    "    if row.country is \"Canada\":\n",
    "        n_stars = 3\n",
    "    else:\n",
    "        if row.points >= 95:\n",
    "            n_stars = 3\n",
    "        elif row.points >= 85:\n",
    "            n_stars = 2\n",
    "        else :\n",
    "            n_stars = 1\n",
    "    return n_stars\n",
    "\n",
    "\n",
    "star_ratings = reviews.apply(ratings,axis=\"columns\")\n",
    "\n",
    "# Check your answer\n",
    "q7.check()"
   ]
  },
  {
   "cell_type": "code",
   "execution_count": 15,
   "id": "f06f8a72",
   "metadata": {
    "execution": {
     "iopub.execute_input": "2022-02-19T21:49:00.803956Z",
     "iopub.status.busy": "2022-02-19T21:49:00.803016Z",
     "iopub.status.idle": "2022-02-19T21:49:00.806368Z",
     "shell.execute_reply": "2022-02-19T21:49:00.806975Z",
     "shell.execute_reply.started": "2022-02-19T21:48:08.791126Z"
    },
    "papermill": {
     "duration": 0.039701,
     "end_time": "2022-02-19T21:49:00.807140",
     "exception": false,
     "start_time": "2022-02-19T21:49:00.767439",
     "status": "completed"
    },
    "tags": []
   },
   "outputs": [],
   "source": [
    "#q7.hint()\n",
    "#q7.solution()"
   ]
  },
  {
   "cell_type": "markdown",
   "id": "665e37af",
   "metadata": {
    "papermill": {
     "duration": 0.032363,
     "end_time": "2022-02-19T21:49:00.873585",
     "exception": false,
     "start_time": "2022-02-19T21:49:00.841222",
     "status": "completed"
    },
    "tags": []
   },
   "source": [
    "# Keep going\n",
    "Continue to **[grouping and sorting](https://www.kaggle.com/residentmario/grouping-and-sorting)**."
   ]
  },
  {
   "cell_type": "markdown",
   "id": "59a95bdc",
   "metadata": {
    "papermill": {
     "duration": 0.032166,
     "end_time": "2022-02-19T21:49:00.938254",
     "exception": false,
     "start_time": "2022-02-19T21:49:00.906088",
     "status": "completed"
    },
    "tags": []
   },
   "source": [
    "---\n",
    "\n",
    "\n",
    "\n",
    "\n",
    "*Have questions or comments? Visit the [course discussion forum](https://www.kaggle.com/learn/pandas/discussion) to chat with other learners.*"
   ]
  }
 ],
 "metadata": {
  "kernelspec": {
   "display_name": "Python 3",
   "language": "python",
   "name": "python3"
  },
  "language_info": {
   "codemirror_mode": {
    "name": "ipython",
    "version": 3
   },
   "file_extension": ".py",
   "mimetype": "text/x-python",
   "name": "python",
   "nbconvert_exporter": "python",
   "pygments_lexer": "ipython3",
   "version": "3.7.12"
  },
  "papermill": {
   "default_parameters": {},
   "duration": 26.564649,
   "end_time": "2022-02-19T21:49:01.683119",
   "environment_variables": {},
   "exception": null,
   "input_path": "__notebook__.ipynb",
   "output_path": "__notebook__.ipynb",
   "parameters": {},
   "start_time": "2022-02-19T21:48:35.118470",
   "version": "2.3.3"
  }
 },
 "nbformat": 4,
 "nbformat_minor": 5
}
