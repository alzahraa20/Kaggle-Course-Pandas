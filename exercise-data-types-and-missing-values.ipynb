{
 "cells": [
  {
   "cell_type": "markdown",
   "id": "898a2964",
   "metadata": {
    "papermill": {
     "duration": 0.016598,
     "end_time": "2022-02-25T13:46:24.846941",
     "exception": false,
     "start_time": "2022-02-25T13:46:24.830343",
     "status": "completed"
    },
    "tags": []
   },
   "source": [
    "**This notebook is an exercise in the [Pandas](https://www.kaggle.com/learn/pandas) course.  You can reference the tutorial at [this link](https://www.kaggle.com/residentmario/data-types-and-missing-values).**\n",
    "\n",
    "---\n"
   ]
  },
  {
   "cell_type": "markdown",
   "id": "4dbd30c1",
   "metadata": {
    "papermill": {
     "duration": 0.015293,
     "end_time": "2022-02-25T13:46:24.877929",
     "exception": false,
     "start_time": "2022-02-25T13:46:24.862636",
     "status": "completed"
    },
    "tags": []
   },
   "source": [
    "# Introduction\n",
    "\n",
    "Run the following cell to load your data and some utility functions."
   ]
  },
  {
   "cell_type": "code",
   "execution_count": 1,
   "id": "a1f70bbf",
   "metadata": {
    "execution": {
     "iopub.execute_input": "2022-02-25T13:46:24.914244Z",
     "iopub.status.busy": "2022-02-25T13:46:24.912452Z",
     "iopub.status.idle": "2022-02-25T13:46:27.752576Z",
     "shell.execute_reply": "2022-02-25T13:46:27.753080Z",
     "shell.execute_reply.started": "2022-02-25T13:41:47.980301Z"
    },
    "papermill": {
     "duration": 2.860308,
     "end_time": "2022-02-25T13:46:27.753383",
     "exception": false,
     "start_time": "2022-02-25T13:46:24.893075",
     "status": "completed"
    },
    "tags": []
   },
   "outputs": [
    {
     "name": "stdout",
     "output_type": "stream",
     "text": [
      "Setup complete.\n"
     ]
    }
   ],
   "source": [
    "import pandas as pd\n",
    "\n",
    "reviews = pd.read_csv(\"../input/wine-reviews/winemag-data-130k-v2.csv\", index_col=0)\n",
    "\n",
    "from learntools.core import binder; binder.bind(globals())\n",
    "from learntools.pandas.data_types_and_missing_data import *\n",
    "print(\"Setup complete.\")"
   ]
  },
  {
   "cell_type": "markdown",
   "id": "3448dc9f",
   "metadata": {
    "papermill": {
     "duration": 0.015626,
     "end_time": "2022-02-25T13:46:27.785426",
     "exception": false,
     "start_time": "2022-02-25T13:46:27.769800",
     "status": "completed"
    },
    "tags": []
   },
   "source": [
    "# Exercises"
   ]
  },
  {
   "cell_type": "markdown",
   "id": "8bd15ee9",
   "metadata": {
    "papermill": {
     "duration": 0.015602,
     "end_time": "2022-02-25T13:46:27.817316",
     "exception": false,
     "start_time": "2022-02-25T13:46:27.801714",
     "status": "completed"
    },
    "tags": []
   },
   "source": [
    "## 1. \n",
    "What is the data type of the `points` column in the dataset?"
   ]
  },
  {
   "cell_type": "code",
   "execution_count": 2,
   "id": "127f7532",
   "metadata": {
    "execution": {
     "iopub.execute_input": "2022-02-25T13:46:27.853256Z",
     "iopub.status.busy": "2022-02-25T13:46:27.852251Z",
     "iopub.status.idle": "2022-02-25T13:46:27.865292Z",
     "shell.execute_reply": "2022-02-25T13:46:27.865899Z",
     "shell.execute_reply.started": "2022-02-25T12:58:19.799126Z"
    },
    "papermill": {
     "duration": 0.032748,
     "end_time": "2022-02-25T13:46:27.866070",
     "exception": false,
     "start_time": "2022-02-25T13:46:27.833322",
     "status": "completed"
    },
    "tags": []
   },
   "outputs": [
    {
     "data": {
      "application/javascript": [
       "parent.postMessage({\"jupyterEvent\": \"custom.exercise_interaction\", \"data\": {\"outcomeType\": 1, \"valueTowardsCompletion\": 0.25, \"interactionType\": 1, \"questionType\": 1, \"questionId\": \"1_PointsDtype\", \"learnToolsVersion\": \"0.3.4\", \"failureMessage\": \"\", \"exceptionClass\": \"\", \"trace\": \"\"}}, \"*\")"
      ],
      "text/plain": [
       "<IPython.core.display.Javascript object>"
      ]
     },
     "metadata": {},
     "output_type": "display_data"
    },
    {
     "data": {
      "text/markdown": [
       "<span style=\"color:#33cc33\">Correct</span>"
      ],
      "text/plain": [
       "Correct"
      ]
     },
     "metadata": {},
     "output_type": "display_data"
    },
    {
     "data": {
      "text/plain": [
       "dtype('int64')"
      ]
     },
     "execution_count": 2,
     "metadata": {},
     "output_type": "execute_result"
    }
   ],
   "source": [
    "# Your code here\n",
    "dtype = reviews.points.dtype\n",
    "\n",
    "# Check your answer\n",
    "q1.check()\n",
    "dtype"
   ]
  },
  {
   "cell_type": "code",
   "execution_count": 3,
   "id": "c83c7016",
   "metadata": {
    "execution": {
     "iopub.execute_input": "2022-02-25T13:46:27.906233Z",
     "iopub.status.busy": "2022-02-25T13:46:27.905185Z",
     "iopub.status.idle": "2022-02-25T13:46:27.908346Z",
     "shell.execute_reply": "2022-02-25T13:46:27.908966Z"
    },
    "papermill": {
     "duration": 0.025342,
     "end_time": "2022-02-25T13:46:27.909147",
     "exception": false,
     "start_time": "2022-02-25T13:46:27.883805",
     "status": "completed"
    },
    "tags": []
   },
   "outputs": [],
   "source": [
    "#q1.hint()\n",
    "#q1.solution()"
   ]
  },
  {
   "cell_type": "markdown",
   "id": "b07ce224",
   "metadata": {
    "papermill": {
     "duration": 0.017291,
     "end_time": "2022-02-25T13:46:27.944025",
     "exception": false,
     "start_time": "2022-02-25T13:46:27.926734",
     "status": "completed"
    },
    "tags": []
   },
   "source": [
    "## 2. \n",
    "Create a Series from entries in the `points` column, but convert the entries to strings. Hint: strings are `str` in native Python."
   ]
  },
  {
   "cell_type": "code",
   "execution_count": 4,
   "id": "f2b35c9a",
   "metadata": {
    "execution": {
     "iopub.execute_input": "2022-02-25T13:46:27.984491Z",
     "iopub.status.busy": "2022-02-25T13:46:27.983402Z",
     "iopub.status.idle": "2022-02-25T13:46:28.132365Z",
     "shell.execute_reply": "2022-02-25T13:46:28.132992Z",
     "shell.execute_reply.started": "2022-02-25T13:00:24.555955Z"
    },
    "papermill": {
     "duration": 0.171078,
     "end_time": "2022-02-25T13:46:28.133164",
     "exception": false,
     "start_time": "2022-02-25T13:46:27.962086",
     "status": "completed"
    },
    "tags": []
   },
   "outputs": [
    {
     "data": {
      "application/javascript": [
       "parent.postMessage({\"jupyterEvent\": \"custom.exercise_interaction\", \"data\": {\"outcomeType\": 1, \"valueTowardsCompletion\": 0.25, \"interactionType\": 1, \"questionType\": 1, \"questionId\": \"2_StrPoints\", \"learnToolsVersion\": \"0.3.4\", \"failureMessage\": \"\", \"exceptionClass\": \"\", \"trace\": \"\"}}, \"*\")"
      ],
      "text/plain": [
       "<IPython.core.display.Javascript object>"
      ]
     },
     "metadata": {},
     "output_type": "display_data"
    },
    {
     "data": {
      "text/markdown": [
       "<span style=\"color:#33cc33\">Correct</span>"
      ],
      "text/plain": [
       "Correct"
      ]
     },
     "metadata": {},
     "output_type": "display_data"
    },
    {
     "data": {
      "text/plain": [
       "0         87\n",
       "1         87\n",
       "2         87\n",
       "3         87\n",
       "4         87\n",
       "          ..\n",
       "129966    90\n",
       "129967    90\n",
       "129968    90\n",
       "129969    90\n",
       "129970    90\n",
       "Name: points, Length: 129971, dtype: object"
      ]
     },
     "execution_count": 4,
     "metadata": {},
     "output_type": "execute_result"
    }
   ],
   "source": [
    "point_strings = reviews.points.astype('str')\n",
    "\n",
    "# Check your answer\n",
    "q2.check()\n",
    "point_strings"
   ]
  },
  {
   "cell_type": "code",
   "execution_count": 5,
   "id": "66f7a3bf",
   "metadata": {
    "execution": {
     "iopub.execute_input": "2022-02-25T13:46:28.175009Z",
     "iopub.status.busy": "2022-02-25T13:46:28.174035Z",
     "iopub.status.idle": "2022-02-25T13:46:28.177190Z",
     "shell.execute_reply": "2022-02-25T13:46:28.177749Z",
     "shell.execute_reply.started": "2022-02-25T12:59:40.977738Z"
    },
    "papermill": {
     "duration": 0.025909,
     "end_time": "2022-02-25T13:46:28.177918",
     "exception": false,
     "start_time": "2022-02-25T13:46:28.152009",
     "status": "completed"
    },
    "tags": []
   },
   "outputs": [],
   "source": [
    "#q2.hint()\n",
    "#q2.solution()"
   ]
  },
  {
   "cell_type": "markdown",
   "id": "51687bef",
   "metadata": {
    "papermill": {
     "duration": 0.018826,
     "end_time": "2022-02-25T13:46:28.215764",
     "exception": false,
     "start_time": "2022-02-25T13:46:28.196938",
     "status": "completed"
    },
    "tags": []
   },
   "source": [
    "## 3.\n",
    "Sometimes the price column is null. How many reviews in the dataset are missing a price?"
   ]
  },
  {
   "cell_type": "code",
   "execution_count": 6,
   "id": "8a57900e",
   "metadata": {
    "execution": {
     "iopub.execute_input": "2022-02-25T13:46:28.257996Z",
     "iopub.status.busy": "2022-02-25T13:46:28.256992Z",
     "iopub.status.idle": "2022-02-25T13:46:28.268043Z",
     "shell.execute_reply": "2022-02-25T13:46:28.268639Z",
     "shell.execute_reply.started": "2022-02-25T13:08:03.432187Z"
    },
    "papermill": {
     "duration": 0.033906,
     "end_time": "2022-02-25T13:46:28.268808",
     "exception": false,
     "start_time": "2022-02-25T13:46:28.234902",
     "status": "completed"
    },
    "tags": []
   },
   "outputs": [
    {
     "data": {
      "application/javascript": [
       "parent.postMessage({\"jupyterEvent\": \"custom.exercise_interaction\", \"data\": {\"outcomeType\": 1, \"valueTowardsCompletion\": 0.25, \"interactionType\": 1, \"questionType\": 1, \"questionId\": \"3_CountMissingPrices\", \"learnToolsVersion\": \"0.3.4\", \"failureMessage\": \"\", \"exceptionClass\": \"\", \"trace\": \"\"}}, \"*\")"
      ],
      "text/plain": [
       "<IPython.core.display.Javascript object>"
      ]
     },
     "metadata": {},
     "output_type": "display_data"
    },
    {
     "data": {
      "text/markdown": [
       "<span style=\"color:#33cc33\">Correct</span>"
      ],
      "text/plain": [
       "Correct"
      ]
     },
     "metadata": {},
     "output_type": "display_data"
    },
    {
     "data": {
      "text/plain": [
       "8996"
      ]
     },
     "execution_count": 6,
     "metadata": {},
     "output_type": "execute_result"
    }
   ],
   "source": [
    "n_missing_prices = pd.isnull(reviews.price).sum()\n",
    "\n",
    "# Check your answer\n",
    "q3.check()\n",
    "n_missing_prices"
   ]
  },
  {
   "cell_type": "code",
   "execution_count": 7,
   "id": "4a7ee1fb",
   "metadata": {
    "execution": {
     "iopub.execute_input": "2022-02-25T13:46:28.315597Z",
     "iopub.status.busy": "2022-02-25T13:46:28.314637Z",
     "iopub.status.idle": "2022-02-25T13:46:28.317772Z",
     "shell.execute_reply": "2022-02-25T13:46:28.318297Z",
     "shell.execute_reply.started": "2022-02-25T13:04:51.432669Z"
    },
    "papermill": {
     "duration": 0.027508,
     "end_time": "2022-02-25T13:46:28.318459",
     "exception": false,
     "start_time": "2022-02-25T13:46:28.290951",
     "status": "completed"
    },
    "tags": []
   },
   "outputs": [],
   "source": [
    "# q3.hint()\n",
    "# q3.solution()"
   ]
  },
  {
   "cell_type": "markdown",
   "id": "fe4fbc76",
   "metadata": {
    "papermill": {
     "duration": 0.020505,
     "end_time": "2022-02-25T13:46:28.359433",
     "exception": false,
     "start_time": "2022-02-25T13:46:28.338928",
     "status": "completed"
    },
    "tags": []
   },
   "source": [
    "## 4.\n",
    "What are the most common wine-producing regions? Create a Series counting the number of times each value occurs in the `region_1` field. This field is often missing data, so replace missing values with `Unknown`. Sort in descending order.  Your output should look something like this:\n",
    "\n",
    "```\n",
    "Unknown                    21247\n",
    "Napa Valley                 4480\n",
    "                           ...  \n",
    "Bardolino Superiore            1\n",
    "Primitivo del Tarantino        1\n",
    "Name: region_1, Length: 1230, dtype: int64\n",
    "```"
   ]
  },
  {
   "cell_type": "code",
   "execution_count": 8,
   "id": "d7a9d3c3",
   "metadata": {
    "execution": {
     "iopub.execute_input": "2022-02-25T13:46:28.404558Z",
     "iopub.status.busy": "2022-02-25T13:46:28.403570Z",
     "iopub.status.idle": "2022-02-25T13:46:28.482585Z",
     "shell.execute_reply": "2022-02-25T13:46:28.483079Z",
     "shell.execute_reply.started": "2022-02-25T13:45:22.164415Z"
    },
    "papermill": {
     "duration": 0.103159,
     "end_time": "2022-02-25T13:46:28.483247",
     "exception": false,
     "start_time": "2022-02-25T13:46:28.380088",
     "status": "completed"
    },
    "tags": []
   },
   "outputs": [
    {
     "data": {
      "application/javascript": [
       "parent.postMessage({\"jupyterEvent\": \"custom.exercise_interaction\", \"data\": {\"outcomeType\": 1, \"valueTowardsCompletion\": 0.25, \"interactionType\": 1, \"questionType\": 2, \"questionId\": \"4_ReviewsPerRegion\", \"learnToolsVersion\": \"0.3.4\", \"failureMessage\": \"\", \"exceptionClass\": \"\", \"trace\": \"\"}}, \"*\")"
      ],
      "text/plain": [
       "<IPython.core.display.Javascript object>"
      ]
     },
     "metadata": {},
     "output_type": "display_data"
    },
    {
     "data": {
      "text/markdown": [
       "<span style=\"color:#33cc33\">Correct</span>"
      ],
      "text/plain": [
       "Correct"
      ]
     },
     "metadata": {},
     "output_type": "display_data"
    },
    {
     "data": {
      "text/plain": [
       "Unknown                    21247\n",
       "Napa Valley                 4480\n",
       "Columbia Valley (WA)        4124\n",
       "Russian River Valley        3091\n",
       "California                  2629\n",
       "                           ...  \n",
       "Lamezia                        1\n",
       "Trentino Superiore             1\n",
       "Grave del Friuli               1\n",
       "Vin Santo di Carmignano        1\n",
       "Paestum                        1\n",
       "Name: region_1, Length: 1230, dtype: int64"
      ]
     },
     "execution_count": 8,
     "metadata": {},
     "output_type": "execute_result"
    }
   ],
   "source": [
    "reviews_per_region = reviews.region_1.fillna(\"Unknown\").value_counts()\n",
    "\n",
    "# Check your answer\n",
    "q4.check()\n",
    "reviews_per_region"
   ]
  },
  {
   "cell_type": "code",
   "execution_count": 9,
   "id": "1deb6763",
   "metadata": {
    "execution": {
     "iopub.execute_input": "2022-02-25T13:46:28.532179Z",
     "iopub.status.busy": "2022-02-25T13:46:28.531231Z",
     "iopub.status.idle": "2022-02-25T13:46:28.533729Z",
     "shell.execute_reply": "2022-02-25T13:46:28.533201Z",
     "shell.execute_reply.started": "2022-02-25T13:45:31.249909Z"
    },
    "papermill": {
     "duration": 0.028526,
     "end_time": "2022-02-25T13:46:28.533887",
     "exception": false,
     "start_time": "2022-02-25T13:46:28.505361",
     "status": "completed"
    },
    "tags": []
   },
   "outputs": [],
   "source": [
    "# q4.hint()\n",
    "# q4.solution()"
   ]
  },
  {
   "cell_type": "markdown",
   "id": "dca010c2",
   "metadata": {
    "papermill": {
     "duration": 0.022049,
     "end_time": "2022-02-25T13:46:28.578528",
     "exception": false,
     "start_time": "2022-02-25T13:46:28.556479",
     "status": "completed"
    },
    "tags": []
   },
   "source": [
    "# Keep going\n",
    "\n",
    "Move on to **[renaming and combining](https://www.kaggle.com/residentmario/renaming-and-combining)**."
   ]
  },
  {
   "cell_type": "markdown",
   "id": "36e7c0ba",
   "metadata": {
    "papermill": {
     "duration": 0.022635,
     "end_time": "2022-02-25T13:46:28.623768",
     "exception": false,
     "start_time": "2022-02-25T13:46:28.601133",
     "status": "completed"
    },
    "tags": []
   },
   "source": [
    "---\n",
    "\n",
    "\n",
    "\n",
    "\n",
    "*Have questions or comments? Visit the [course discussion forum](https://www.kaggle.com/learn/pandas/discussion) to chat with other learners.*"
   ]
  }
 ],
 "metadata": {
  "kernelspec": {
   "display_name": "Python 3",
   "language": "python",
   "name": "python3"
  },
  "language_info": {
   "codemirror_mode": {
    "name": "ipython",
    "version": 3
   },
   "file_extension": ".py",
   "mimetype": "text/x-python",
   "name": "python",
   "nbconvert_exporter": "python",
   "pygments_lexer": "ipython3",
   "version": "3.7.12"
  },
  "papermill": {
   "default_parameters": {},
   "duration": 14.348238,
   "end_time": "2022-02-25T13:46:29.359114",
   "environment_variables": {},
   "exception": null,
   "input_path": "__notebook__.ipynb",
   "output_path": "__notebook__.ipynb",
   "parameters": {},
   "start_time": "2022-02-25T13:46:15.010876",
   "version": "2.3.3"
  }
 },
 "nbformat": 4,
 "nbformat_minor": 5
}
